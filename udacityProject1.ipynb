{
  "nbformat": 4,
  "nbformat_minor": 0,
  "metadata": {
    "colab": {
      "name": "udacityProject1.ipynb",
      "provenance": [],
      "collapsed_sections": [],
      "authorship_tag": "ABX9TyNU+8+Z11r0BoUWZCA4y6rd",
      "include_colab_link": true
    },
    "kernelspec": {
      "name": "python3",
      "display_name": "Python 3"
    }
  },
  "cells": [
    {
      "cell_type": "markdown",
      "metadata": {
        "id": "view-in-github",
        "colab_type": "text"
      },
      "source": [
        "<a href=\"https://colab.research.google.com/github/AhmedElrifo/Investigate-a-Dataset/blob/master/udacityProject1.ipynb\" target=\"_parent\"><img src=\"https://colab.research.google.com/assets/colab-badge.svg\" alt=\"Open In Colab\"/></a>"
      ]
    },
    {
      "cell_type": "markdown",
      "metadata": {
        "id": "F3on_eUS23dE",
        "colab_type": "text"
      },
      "source": [
        " # Which genre is the best selling  through out the history ?\n",
        "\n",
        "---\n",
        "\n"
      ]
    },
    {
      "cell_type": "code",
      "metadata": {
        "id": "ayHVMaW1f82N",
        "colab_type": "code",
        "colab": {}
      },
      "source": [
        "import pandas as pd \n",
        "import matplotlib.pyplot as plt\n",
        "% matplotlib inline\n",
        "import numpy as np \n"
      ],
      "execution_count": 27,
      "outputs": []
    },
    {
      "cell_type": "code",
      "metadata": {
        "id": "PDDH-RVGgyDO",
        "colab_type": "code",
        "colab": {
          "base_uri": "https://localhost:8080/",
          "height": 267
        },
        "outputId": "25b78250-a9bb-4e07-975e-d5232148de85"
      },
      "source": [
        "df=pd.read_csv('/content/tmdb-movies.csv')\n",
        "df.head(2)"
      ],
      "execution_count": 28,
      "outputs": [
        {
          "output_type": "execute_result",
          "data": {
            "text/html": [
              "<div>\n",
              "<style scoped>\n",
              "    .dataframe tbody tr th:only-of-type {\n",
              "        vertical-align: middle;\n",
              "    }\n",
              "\n",
              "    .dataframe tbody tr th {\n",
              "        vertical-align: top;\n",
              "    }\n",
              "\n",
              "    .dataframe thead th {\n",
              "        text-align: right;\n",
              "    }\n",
              "</style>\n",
              "<table border=\"1\" class=\"dataframe\">\n",
              "  <thead>\n",
              "    <tr style=\"text-align: right;\">\n",
              "      <th></th>\n",
              "      <th>id</th>\n",
              "      <th>imdb_id</th>\n",
              "      <th>popularity</th>\n",
              "      <th>budget</th>\n",
              "      <th>revenue</th>\n",
              "      <th>original_title</th>\n",
              "      <th>cast</th>\n",
              "      <th>homepage</th>\n",
              "      <th>director</th>\n",
              "      <th>tagline</th>\n",
              "      <th>keywords</th>\n",
              "      <th>overview</th>\n",
              "      <th>runtime</th>\n",
              "      <th>genres</th>\n",
              "      <th>production_companies</th>\n",
              "      <th>release_date</th>\n",
              "      <th>vote_count</th>\n",
              "      <th>vote_average</th>\n",
              "      <th>release_year</th>\n",
              "      <th>budget_adj</th>\n",
              "      <th>revenue_adj</th>\n",
              "    </tr>\n",
              "  </thead>\n",
              "  <tbody>\n",
              "    <tr>\n",
              "      <th>0</th>\n",
              "      <td>135397</td>\n",
              "      <td>tt0369610</td>\n",
              "      <td>32.985763</td>\n",
              "      <td>150000000</td>\n",
              "      <td>1513528810</td>\n",
              "      <td>Jurassic World</td>\n",
              "      <td>Chris Pratt|Bryce Dallas Howard|Irrfan Khan|Vi...</td>\n",
              "      <td>http://www.jurassicworld.com/</td>\n",
              "      <td>Colin Trevorrow</td>\n",
              "      <td>The park is open.</td>\n",
              "      <td>monster|dna|tyrannosaurus rex|velociraptor|island</td>\n",
              "      <td>Twenty-two years after the events of Jurassic ...</td>\n",
              "      <td>124</td>\n",
              "      <td>Action|Adventure|Science Fiction|Thriller</td>\n",
              "      <td>Universal Studios|Amblin Entertainment|Legenda...</td>\n",
              "      <td>6/9/15</td>\n",
              "      <td>5562</td>\n",
              "      <td>6.5</td>\n",
              "      <td>2015</td>\n",
              "      <td>1.379999e+08</td>\n",
              "      <td>1.392446e+09</td>\n",
              "    </tr>\n",
              "    <tr>\n",
              "      <th>1</th>\n",
              "      <td>76341</td>\n",
              "      <td>tt1392190</td>\n",
              "      <td>28.419936</td>\n",
              "      <td>150000000</td>\n",
              "      <td>378436354</td>\n",
              "      <td>Mad Max: Fury Road</td>\n",
              "      <td>Tom Hardy|Charlize Theron|Hugh Keays-Byrne|Nic...</td>\n",
              "      <td>http://www.madmaxmovie.com/</td>\n",
              "      <td>George Miller</td>\n",
              "      <td>What a Lovely Day.</td>\n",
              "      <td>future|chase|post-apocalyptic|dystopia|australia</td>\n",
              "      <td>An apocalyptic story set in the furthest reach...</td>\n",
              "      <td>120</td>\n",
              "      <td>Action|Adventure|Science Fiction|Thriller</td>\n",
              "      <td>Village Roadshow Pictures|Kennedy Miller Produ...</td>\n",
              "      <td>5/13/15</td>\n",
              "      <td>6185</td>\n",
              "      <td>7.1</td>\n",
              "      <td>2015</td>\n",
              "      <td>1.379999e+08</td>\n",
              "      <td>3.481613e+08</td>\n",
              "    </tr>\n",
              "  </tbody>\n",
              "</table>\n",
              "</div>"
            ],
            "text/plain": [
              "       id    imdb_id  popularity  ...  release_year    budget_adj   revenue_adj\n",
              "0  135397  tt0369610   32.985763  ...          2015  1.379999e+08  1.392446e+09\n",
              "1   76341  tt1392190   28.419936  ...          2015  1.379999e+08  3.481613e+08\n",
              "\n",
              "[2 rows x 21 columns]"
            ]
          },
          "metadata": {
            "tags": []
          },
          "execution_count": 28
        }
      ]
    },
    {
      "cell_type": "markdown",
      "metadata": {
        "id": "fhpRInJjhpJN",
        "colab_type": "text"
      },
      "source": [
        "# why some movies are more successful than others ?and what are their genres ?"
      ]
    },
    {
      "cell_type": "markdown",
      "metadata": {
        "id": "CKKNuMtxw2Pr",
        "colab_type": "text"
      },
      "source": [
        "Data exploration"
      ]
    },
    {
      "cell_type": "code",
      "metadata": {
        "id": "Dg2vJMXshRnC",
        "colab_type": "code",
        "colab": {
          "base_uri": "https://localhost:8080/",
          "height": 697
        },
        "outputId": "5ff15103-ed60-4147-b9f2-046dd78a0030"
      },
      "source": [
        "print(df.info(),'\\n',df.describe())"
      ],
      "execution_count": 29,
      "outputs": [
        {
          "output_type": "stream",
          "text": [
            "<class 'pandas.core.frame.DataFrame'>\n",
            "RangeIndex: 10866 entries, 0 to 10865\n",
            "Data columns (total 21 columns):\n",
            " #   Column                Non-Null Count  Dtype  \n",
            "---  ------                --------------  -----  \n",
            " 0   id                    10866 non-null  int64  \n",
            " 1   imdb_id               10856 non-null  object \n",
            " 2   popularity            10866 non-null  float64\n",
            " 3   budget                10866 non-null  int64  \n",
            " 4   revenue               10866 non-null  int64  \n",
            " 5   original_title        10866 non-null  object \n",
            " 6   cast                  10790 non-null  object \n",
            " 7   homepage              2936 non-null   object \n",
            " 8   director              10822 non-null  object \n",
            " 9   tagline               8042 non-null   object \n",
            " 10  keywords              9373 non-null   object \n",
            " 11  overview              10862 non-null  object \n",
            " 12  runtime               10866 non-null  int64  \n",
            " 13  genres                10843 non-null  object \n",
            " 14  production_companies  9836 non-null   object \n",
            " 15  release_date          10866 non-null  object \n",
            " 16  vote_count            10866 non-null  int64  \n",
            " 17  vote_average          10866 non-null  float64\n",
            " 18  release_year          10866 non-null  int64  \n",
            " 19  budget_adj            10866 non-null  float64\n",
            " 20  revenue_adj           10866 non-null  float64\n",
            "dtypes: float64(4), int64(6), object(11)\n",
            "memory usage: 1.7+ MB\n",
            "None \n",
            "                   id    popularity  ...    budget_adj   revenue_adj\n",
            "count   10866.000000  10866.000000  ...  1.086600e+04  1.086600e+04\n",
            "mean    66064.177434      0.646441  ...  1.755104e+07  5.136436e+07\n",
            "std     92130.136561      1.000185  ...  3.430616e+07  1.446325e+08\n",
            "min         5.000000      0.000065  ...  0.000000e+00  0.000000e+00\n",
            "25%     10596.250000      0.207583  ...  0.000000e+00  0.000000e+00\n",
            "50%     20669.000000      0.383856  ...  0.000000e+00  0.000000e+00\n",
            "75%     75610.000000      0.713817  ...  2.085325e+07  3.369710e+07\n",
            "max    417859.000000     32.985763  ...  4.250000e+08  2.827124e+09\n",
            "\n",
            "[8 rows x 10 columns]\n"
          ],
          "name": "stdout"
        }
      ]
    },
    {
      "cell_type": "code",
      "metadata": {
        "id": "l9uGLaS1g9oQ",
        "colab_type": "code",
        "colab": {
          "base_uri": "https://localhost:8080/",
          "height": 391
        },
        "outputId": "bbb43d6d-1bba-4c9f-ec50-48176795c235"
      },
      "source": [
        "df.nunique()"
      ],
      "execution_count": 30,
      "outputs": [
        {
          "output_type": "execute_result",
          "data": {
            "text/plain": [
              "id                      10865\n",
              "imdb_id                 10855\n",
              "popularity              10814\n",
              "budget                    557\n",
              "revenue                  4702\n",
              "original_title          10571\n",
              "cast                    10719\n",
              "homepage                 2896\n",
              "director                 5067\n",
              "tagline                  7997\n",
              "keywords                 8804\n",
              "overview                10847\n",
              "runtime                   247\n",
              "genres                   2039\n",
              "production_companies     7445\n",
              "release_date             5909\n",
              "vote_count               1289\n",
              "vote_average               72\n",
              "release_year               56\n",
              "budget_adj               2614\n",
              "revenue_adj              4840\n",
              "dtype: int64"
            ]
          },
          "metadata": {
            "tags": []
          },
          "execution_count": 30
        }
      ]
    },
    {
      "cell_type": "markdown",
      "metadata": {
        "id": "0sW9uXR5xDMW",
        "colab_type": "text"
      },
      "source": [
        "Data wrangling and cleaning"
      ]
    },
    {
      "cell_type": "code",
      "metadata": {
        "id": "TwoQad0dh8za",
        "colab_type": "code",
        "colab": {
          "base_uri": "https://localhost:8080/",
          "height": 425
        },
        "outputId": "4109ddff-8645-4581-cecf-2143783a0346"
      },
      "source": [
        "df=df.drop(columns=['imdb_id','homepage','tagline','overview'])\n",
        "df=df.dropna(subset=['keywords','production_companies'])\n",
        "df.info()"
      ],
      "execution_count": 31,
      "outputs": [
        {
          "output_type": "stream",
          "text": [
            "<class 'pandas.core.frame.DataFrame'>\n",
            "Int64Index: 8706 entries, 0 to 10865\n",
            "Data columns (total 17 columns):\n",
            " #   Column                Non-Null Count  Dtype  \n",
            "---  ------                --------------  -----  \n",
            " 0   id                    8706 non-null   int64  \n",
            " 1   popularity            8706 non-null   float64\n",
            " 2   budget                8706 non-null   int64  \n",
            " 3   revenue               8706 non-null   int64  \n",
            " 4   original_title        8706 non-null   object \n",
            " 5   cast                  8681 non-null   object \n",
            " 6   director              8696 non-null   object \n",
            " 7   keywords              8706 non-null   object \n",
            " 8   runtime               8706 non-null   int64  \n",
            " 9   genres                8702 non-null   object \n",
            " 10  production_companies  8706 non-null   object \n",
            " 11  release_date          8706 non-null   object \n",
            " 12  vote_count            8706 non-null   int64  \n",
            " 13  vote_average          8706 non-null   float64\n",
            " 14  release_year          8706 non-null   int64  \n",
            " 15  budget_adj            8706 non-null   float64\n",
            " 16  revenue_adj           8706 non-null   float64\n",
            "dtypes: float64(4), int64(6), object(7)\n",
            "memory usage: 1.2+ MB\n"
          ],
          "name": "stdout"
        }
      ]
    },
    {
      "cell_type": "markdown",
      "metadata": {
        "id": "0VpUk-IcxFW5",
        "colab_type": "text"
      },
      "source": [
        "# making new rows with the values after ' | ' and replace it with the multi values rows "
      ]
    },
    {
      "cell_type": "code",
      "metadata": {
        "id": "AAfrG7P5is0a",
        "colab_type": "code",
        "colab": {}
      },
      "source": [
        "#making new rows with the values after ' | '\n",
        "\n",
        "\n",
        "df=df.drop('keywords', axis=1).join(df['keywords'].str.split('|', expand=True).stack().reset_index(level=1, drop=True).rename('keywords'))\n",
        "\n",
        "\n"
      ],
      "execution_count": 32,
      "outputs": []
    },
    {
      "cell_type": "code",
      "metadata": {
        "id": "fecYRHSTzM4a",
        "colab_type": "code",
        "colab": {}
      },
      "source": [
        "#making new rows with the values after ' | '\n",
        "df=df.drop('genres', axis=1).join(df['genres'].str.split('|', expand=True).stack().reset_index(level=1, drop=True).rename('genres'))\n"
      ],
      "execution_count": 33,
      "outputs": []
    },
    {
      "cell_type": "code",
      "metadata": {
        "id": "94h0s6gMzohe",
        "colab_type": "code",
        "colab": {
          "base_uri": "https://localhost:8080/",
          "height": 564
        },
        "outputId": "ecdeb727-9017-497a-dda0-3a8f6dd59e5a"
      },
      "source": [
        "df.head()"
      ],
      "execution_count": 34,
      "outputs": [
        {
          "output_type": "execute_result",
          "data": {
            "text/html": [
              "<div>\n",
              "<style scoped>\n",
              "    .dataframe tbody tr th:only-of-type {\n",
              "        vertical-align: middle;\n",
              "    }\n",
              "\n",
              "    .dataframe tbody tr th {\n",
              "        vertical-align: top;\n",
              "    }\n",
              "\n",
              "    .dataframe thead th {\n",
              "        text-align: right;\n",
              "    }\n",
              "</style>\n",
              "<table border=\"1\" class=\"dataframe\">\n",
              "  <thead>\n",
              "    <tr style=\"text-align: right;\">\n",
              "      <th></th>\n",
              "      <th>id</th>\n",
              "      <th>popularity</th>\n",
              "      <th>budget</th>\n",
              "      <th>revenue</th>\n",
              "      <th>original_title</th>\n",
              "      <th>cast</th>\n",
              "      <th>director</th>\n",
              "      <th>runtime</th>\n",
              "      <th>production_companies</th>\n",
              "      <th>release_date</th>\n",
              "      <th>vote_count</th>\n",
              "      <th>vote_average</th>\n",
              "      <th>release_year</th>\n",
              "      <th>budget_adj</th>\n",
              "      <th>revenue_adj</th>\n",
              "      <th>keywords</th>\n",
              "      <th>genres</th>\n",
              "    </tr>\n",
              "  </thead>\n",
              "  <tbody>\n",
              "    <tr>\n",
              "      <th>0</th>\n",
              "      <td>135397</td>\n",
              "      <td>32.985763</td>\n",
              "      <td>150000000</td>\n",
              "      <td>1513528810</td>\n",
              "      <td>Jurassic World</td>\n",
              "      <td>Chris Pratt|Bryce Dallas Howard|Irrfan Khan|Vi...</td>\n",
              "      <td>Colin Trevorrow</td>\n",
              "      <td>124</td>\n",
              "      <td>Universal Studios|Amblin Entertainment|Legenda...</td>\n",
              "      <td>6/9/15</td>\n",
              "      <td>5562</td>\n",
              "      <td>6.5</td>\n",
              "      <td>2015</td>\n",
              "      <td>1.379999e+08</td>\n",
              "      <td>1.392446e+09</td>\n",
              "      <td>monster</td>\n",
              "      <td>Action</td>\n",
              "    </tr>\n",
              "    <tr>\n",
              "      <th>0</th>\n",
              "      <td>135397</td>\n",
              "      <td>32.985763</td>\n",
              "      <td>150000000</td>\n",
              "      <td>1513528810</td>\n",
              "      <td>Jurassic World</td>\n",
              "      <td>Chris Pratt|Bryce Dallas Howard|Irrfan Khan|Vi...</td>\n",
              "      <td>Colin Trevorrow</td>\n",
              "      <td>124</td>\n",
              "      <td>Universal Studios|Amblin Entertainment|Legenda...</td>\n",
              "      <td>6/9/15</td>\n",
              "      <td>5562</td>\n",
              "      <td>6.5</td>\n",
              "      <td>2015</td>\n",
              "      <td>1.379999e+08</td>\n",
              "      <td>1.392446e+09</td>\n",
              "      <td>monster</td>\n",
              "      <td>Adventure</td>\n",
              "    </tr>\n",
              "    <tr>\n",
              "      <th>0</th>\n",
              "      <td>135397</td>\n",
              "      <td>32.985763</td>\n",
              "      <td>150000000</td>\n",
              "      <td>1513528810</td>\n",
              "      <td>Jurassic World</td>\n",
              "      <td>Chris Pratt|Bryce Dallas Howard|Irrfan Khan|Vi...</td>\n",
              "      <td>Colin Trevorrow</td>\n",
              "      <td>124</td>\n",
              "      <td>Universal Studios|Amblin Entertainment|Legenda...</td>\n",
              "      <td>6/9/15</td>\n",
              "      <td>5562</td>\n",
              "      <td>6.5</td>\n",
              "      <td>2015</td>\n",
              "      <td>1.379999e+08</td>\n",
              "      <td>1.392446e+09</td>\n",
              "      <td>monster</td>\n",
              "      <td>Science Fiction</td>\n",
              "    </tr>\n",
              "    <tr>\n",
              "      <th>0</th>\n",
              "      <td>135397</td>\n",
              "      <td>32.985763</td>\n",
              "      <td>150000000</td>\n",
              "      <td>1513528810</td>\n",
              "      <td>Jurassic World</td>\n",
              "      <td>Chris Pratt|Bryce Dallas Howard|Irrfan Khan|Vi...</td>\n",
              "      <td>Colin Trevorrow</td>\n",
              "      <td>124</td>\n",
              "      <td>Universal Studios|Amblin Entertainment|Legenda...</td>\n",
              "      <td>6/9/15</td>\n",
              "      <td>5562</td>\n",
              "      <td>6.5</td>\n",
              "      <td>2015</td>\n",
              "      <td>1.379999e+08</td>\n",
              "      <td>1.392446e+09</td>\n",
              "      <td>monster</td>\n",
              "      <td>Thriller</td>\n",
              "    </tr>\n",
              "    <tr>\n",
              "      <th>0</th>\n",
              "      <td>135397</td>\n",
              "      <td>32.985763</td>\n",
              "      <td>150000000</td>\n",
              "      <td>1513528810</td>\n",
              "      <td>Jurassic World</td>\n",
              "      <td>Chris Pratt|Bryce Dallas Howard|Irrfan Khan|Vi...</td>\n",
              "      <td>Colin Trevorrow</td>\n",
              "      <td>124</td>\n",
              "      <td>Universal Studios|Amblin Entertainment|Legenda...</td>\n",
              "      <td>6/9/15</td>\n",
              "      <td>5562</td>\n",
              "      <td>6.5</td>\n",
              "      <td>2015</td>\n",
              "      <td>1.379999e+08</td>\n",
              "      <td>1.392446e+09</td>\n",
              "      <td>monster</td>\n",
              "      <td>Action</td>\n",
              "    </tr>\n",
              "  </tbody>\n",
              "</table>\n",
              "</div>"
            ],
            "text/plain": [
              "       id  popularity     budget  ...   revenue_adj keywords           genres\n",
              "0  135397   32.985763  150000000  ...  1.392446e+09  monster           Action\n",
              "0  135397   32.985763  150000000  ...  1.392446e+09  monster        Adventure\n",
              "0  135397   32.985763  150000000  ...  1.392446e+09  monster  Science Fiction\n",
              "0  135397   32.985763  150000000  ...  1.392446e+09  monster         Thriller\n",
              "0  135397   32.985763  150000000  ...  1.392446e+09  monster           Action\n",
              "\n",
              "[5 rows x 17 columns]"
            ]
          },
          "metadata": {
            "tags": []
          },
          "execution_count": 34
        }
      ]
    },
    {
      "cell_type": "code",
      "metadata": {
        "id": "fJ69cjsR6Y5g",
        "colab_type": "code",
        "colab": {
          "base_uri": "https://localhost:8080/",
          "height": 136
        },
        "outputId": "7b1ab258-8adb-4c4c-d876-465e87da7096"
      },
      "source": [
        "# grouping data to find generes each year\n",
        "df_group2=df[['genres','release_year','revenue']].sort_values(by=['release_year','revenue'],ascending=False).groupby(['release_year','genres'])['revenue'].sum()\n",
        "df_group2.tail()"
      ],
      "execution_count": 35,
      "outputs": [
        {
          "output_type": "execute_result",
          "data": {
            "text/plain": [
              "release_year  genres         \n",
              "2015          Science Fiction    239917408842\n",
              "              TV Movie                      0\n",
              "              Thriller           186804894154\n",
              "              War                 17279356006\n",
              "              Western             17223492850\n",
              "Name: revenue, dtype: int64"
            ]
          },
          "metadata": {
            "tags": []
          },
          "execution_count": 35
        }
      ]
    },
    {
      "cell_type": "code",
      "metadata": {
        "id": "7StqsLesz264",
        "colab_type": "code",
        "colab": {
          "base_uri": "https://localhost:8080/",
          "height": 419
        },
        "outputId": "e21ea438-a416-4c83-fbd3-5a85b9389e3a"
      },
      "source": [
        "\n",
        "df_group=df.groupby(by=['release_year','genres',])['revenue'].sum().reset_index()\n",
        "\n",
        "df_group.sort_values(by=['release_year','revenue'],ascending=False)"
      ],
      "execution_count": 36,
      "outputs": [
        {
          "output_type": "execute_result",
          "data": {
            "text/html": [
              "<div>\n",
              "<style scoped>\n",
              "    .dataframe tbody tr th:only-of-type {\n",
              "        vertical-align: middle;\n",
              "    }\n",
              "\n",
              "    .dataframe tbody tr th {\n",
              "        vertical-align: top;\n",
              "    }\n",
              "\n",
              "    .dataframe thead th {\n",
              "        text-align: right;\n",
              "    }\n",
              "</style>\n",
              "<table border=\"1\" class=\"dataframe\">\n",
              "  <thead>\n",
              "    <tr style=\"text-align: right;\">\n",
              "      <th></th>\n",
              "      <th>release_year</th>\n",
              "      <th>genres</th>\n",
              "      <th>revenue</th>\n",
              "    </tr>\n",
              "  </thead>\n",
              "  <tbody>\n",
              "    <tr>\n",
              "      <th>1014</th>\n",
              "      <td>2015</td>\n",
              "      <td>Adventure</td>\n",
              "      <td>336747794875</td>\n",
              "    </tr>\n",
              "    <tr>\n",
              "      <th>1013</th>\n",
              "      <td>2015</td>\n",
              "      <td>Action</td>\n",
              "      <td>313138051864</td>\n",
              "    </tr>\n",
              "    <tr>\n",
              "      <th>1027</th>\n",
              "      <td>2015</td>\n",
              "      <td>Science Fiction</td>\n",
              "      <td>239917408842</td>\n",
              "    </tr>\n",
              "    <tr>\n",
              "      <th>1029</th>\n",
              "      <td>2015</td>\n",
              "      <td>Thriller</td>\n",
              "      <td>186804894154</td>\n",
              "    </tr>\n",
              "    <tr>\n",
              "      <th>1016</th>\n",
              "      <td>2015</td>\n",
              "      <td>Comedy</td>\n",
              "      <td>165112820058</td>\n",
              "    </tr>\n",
              "    <tr>\n",
              "      <th>...</th>\n",
              "      <td>...</td>\n",
              "      <td>...</td>\n",
              "      <td>...</td>\n",
              "    </tr>\n",
              "    <tr>\n",
              "      <th>3</th>\n",
              "      <td>1960</td>\n",
              "      <td>Crime</td>\n",
              "      <td>0</td>\n",
              "    </tr>\n",
              "    <tr>\n",
              "      <th>6</th>\n",
              "      <td>1960</td>\n",
              "      <td>Fantasy</td>\n",
              "      <td>0</td>\n",
              "    </tr>\n",
              "    <tr>\n",
              "      <th>9</th>\n",
              "      <td>1960</td>\n",
              "      <td>Music</td>\n",
              "      <td>0</td>\n",
              "    </tr>\n",
              "    <tr>\n",
              "      <th>11</th>\n",
              "      <td>1960</td>\n",
              "      <td>Science Fiction</td>\n",
              "      <td>0</td>\n",
              "    </tr>\n",
              "    <tr>\n",
              "      <th>13</th>\n",
              "      <td>1960</td>\n",
              "      <td>War</td>\n",
              "      <td>0</td>\n",
              "    </tr>\n",
              "  </tbody>\n",
              "</table>\n",
              "<p>1032 rows × 3 columns</p>\n",
              "</div>"
            ],
            "text/plain": [
              "      release_year           genres       revenue\n",
              "1014          2015        Adventure  336747794875\n",
              "1013          2015           Action  313138051864\n",
              "1027          2015  Science Fiction  239917408842\n",
              "1029          2015         Thriller  186804894154\n",
              "1016          2015           Comedy  165112820058\n",
              "...            ...              ...           ...\n",
              "3             1960            Crime             0\n",
              "6             1960          Fantasy             0\n",
              "9             1960            Music             0\n",
              "11            1960  Science Fiction             0\n",
              "13            1960              War             0\n",
              "\n",
              "[1032 rows x 3 columns]"
            ]
          },
          "metadata": {
            "tags": []
          },
          "execution_count": 36
        }
      ]
    },
    {
      "cell_type": "markdown",
      "metadata": {
        "id": "TNQbWZkL-fya",
        "colab_type": "text"
      },
      "source": [
        "## The answer to the first quest\n",
        "\n",
        "---\n",
        "\n",
        "\n",
        "\n",
        "---\n",
        "\n",
        "\n",
        "\n",
        "---\n",
        "\n"
      ]
    },
    {
      "cell_type": "code",
      "metadata": {
        "id": "FBzCXLqh7UAl",
        "colab_type": "code",
        "colab": {
          "base_uri": "https://localhost:8080/",
          "height": 102
        },
        "outputId": "65def767-604c-4e1b-ac55-d98956a70673"
      },
      "source": [
        "df_genere=df.groupby(by=['genres'])['revenue'].sum()\n",
        "df_genere=df_genere.sort_index(ascending=False)\n",
        "df_genere.index"
      ],
      "execution_count": 37,
      "outputs": [
        {
          "output_type": "execute_result",
          "data": {
            "text/plain": [
              "Index(['Western', 'War', 'Thriller', 'TV Movie', 'Science Fiction', 'Romance',\n",
              "       'Mystery', 'Music', 'Horror', 'History', 'Foreign', 'Fantasy', 'Family',\n",
              "       'Drama', 'Documentary', 'Crime', 'Comedy', 'Animation', 'Adventure',\n",
              "       'Action'],\n",
              "      dtype='object', name='genres')"
            ]
          },
          "metadata": {
            "tags": []
          },
          "execution_count": 37
        }
      ]
    },
    {
      "cell_type": "code",
      "metadata": {
        "id": "IaeQTd13_LJi",
        "colab_type": "code",
        "colab": {
          "base_uri": "https://localhost:8080/",
          "height": 672
        },
        "outputId": "b3a57910-08a6-4fa6-bb5b-14a65a7b766f"
      },
      "source": [
        "plt.figure(figsize=(15,10))\n",
        "plt.bar(df_genere.index,df_genere)\n",
        "plt.xticks(rotation=90)\n",
        "plt.title('Best-selling genres')\n",
        "plt.show()"
      ],
      "execution_count": 38,
      "outputs": [
        {
          "output_type": "display_data",
          "data": {
            "image/png": "[encoded data removed]",
            "text/plain": [
              "<Figure size 1080x720 with 1 Axes>"
            ]
          },
          "metadata": {
            "tags": [],
            "needs_background": "light"
          }
        }
      ]
    },
    {
      "cell_type": "markdown",
      "metadata": {
        "id": "C25OMULMDuf2",
        "colab_type": "text"
      },
      "source": [
        "## are the revenues of each year improving ?\n",
        "\n",
        "---\n",
        "\n",
        "\n",
        "\n",
        "---\n",
        "\n"
      ]
    },
    {
      "cell_type": "code",
      "metadata": {
        "id": "CECWhE93CqW5",
        "colab_type": "code",
        "colab": {
          "base_uri": "https://localhost:8080/",
          "height": 1000
        },
        "outputId": "97696de9-14be-47a7-e973-7d8385e3d503"
      },
      "source": [
        "# answering the second question by using groupby and sum \n",
        "dfYear=df.groupby(by=['release_year'])['revenue'].sum()\n",
        "dfYear=dfYear.sort_index(ascending=False)\n",
        "dfYear"
      ],
      "execution_count": 39,
      "outputs": [
        {
          "output_type": "execute_result",
          "data": {
            "text/plain": [
              "release_year\n",
              "2015    1957464793275\n",
              "2014    1673877736815\n",
              "2013    1512702084406\n",
              "2012    1703703692482\n",
              "2011    1543069301124\n",
              "2010    1359232775092\n",
              "2009    1591026301250\n",
              "2008    1150994388847\n",
              "2007    1420540889436\n",
              "2006    1135589954618\n",
              "2005    1103222493098\n",
              "2004    1132386699531\n",
              "2003     952701541463\n",
              "2002     949181843595\n",
              "2001     911471109978\n",
              "2000     625820747893\n",
              "1999     719950530595\n",
              "1998     611962988524\n",
              "1997     749120595101\n",
              "1996     575438532154\n",
              "1995     683788696445\n",
              "1994     477925214236\n",
              "1993     447891050335\n",
              "1992     443645820541\n",
              "1991     346086900008\n",
              "1990     382581417029\n",
              "1989     325345619401\n",
              "1988     234801682103\n",
              "1987     218384908995\n",
              "1986     174147390085\n",
              "1985     185033373948\n",
              "1984     173774806860\n",
              "1983     150306398775\n",
              "1982     177567004449\n",
              "1981      84303742271\n",
              "1980     106555448385\n",
              "1979     108462196139\n",
              "1978      71700520840\n",
              "1977     135353723380\n",
              "1976      42363525689\n",
              "1975      62604835204\n",
              "1974      49219664468\n",
              "1973      74236409979\n",
              "1972      23370806316\n",
              "1971      29416161525\n",
              "1970      42228632450\n",
              "1969      10078924082\n",
              "1968      18346078893\n",
              "1967      53015152900\n",
              "1966       4347417225\n",
              "1965      37752496200\n",
              "1964      29075448762\n",
              "1963      11760859750\n",
              "1962      17776242300\n",
              "1961      21868832714\n",
              "1960       9624875000\n",
              "Name: revenue, dtype: int64"
            ]
          },
          "metadata": {
            "tags": []
          },
          "execution_count": 39
        }
      ]
    },
    {
      "cell_type": "code",
      "metadata": {
        "id": "VbFwCx3PEB3m",
        "colab_type": "code",
        "colab": {
          "base_uri": "https://localhost:8080/",
          "height": 623
        },
        "outputId": "759ab86b-794c-4200-934a-159f2e48d0a8"
      },
      "source": [
        "\n",
        "plt.figure(figsize=(10,10))\n",
        "plt.bar(dfYear.index,dfYear)\n",
        "plt.xticks(rotation=90)\n",
        "plt.title('Each year and its Revenue')\n",
        "plt.show()"
      ],
      "execution_count": 40,
      "outputs": [
        {
          "output_type": "display_data",
          "data": {
            "image/png": "[encoded data removed]",
            "text/plain": [
              "<Figure size 720x720 with 1 Axes>"
            ]
          },
          "metadata": {
            "tags": [],
            "needs_background": "light"
          }
        }
      ]
    },
    {
      "cell_type": "markdown",
      "metadata": {
        "id": "EG5UkLAaCbDn",
        "colab_type": "text"
      },
      "source": [
        "# what are the people's choice each year ?\n",
        "\n",
        "---\n",
        "\n",
        "\n",
        "\n",
        "---\n",
        "\n",
        "\n",
        "\n",
        "---\n",
        "\n"
      ]
    },
    {
      "cell_type": "code",
      "metadata": {
        "id": "78BQksTSLSfs",
        "colab_type": "code",
        "colab": {
          "base_uri": "https://localhost:8080/",
          "height": 1000
        },
        "outputId": "094037e2-bcac-461e-9458-e507484fd984"
      },
      "source": [
        "# this is to get the  most popular genere each year \n",
        "people=df_group.sort_values(by=['release_year'],ascending=False)\n",
        "people=people.sort_values('revenue',ascending=False)\n",
        "people\n",
        "\n",
        "df_people=people.drop_duplicates('release_year',keep='first', ignore_index=True)\n",
        "df_people"
      ],
      "execution_count": 41,
      "outputs": [
        {
          "output_type": "execute_result",
          "data": {
            "text/html": [
              "<div>\n",
              "<style scoped>\n",
              "    .dataframe tbody tr th:only-of-type {\n",
              "        vertical-align: middle;\n",
              "    }\n",
              "\n",
              "    .dataframe tbody tr th {\n",
              "        vertical-align: top;\n",
              "    }\n",
              "\n",
              "    .dataframe thead th {\n",
              "        text-align: right;\n",
              "    }\n",
              "</style>\n",
              "<table border=\"1\" class=\"dataframe\">\n",
              "  <thead>\n",
              "    <tr style=\"text-align: right;\">\n",
              "      <th></th>\n",
              "      <th>release_year</th>\n",
              "      <th>genres</th>\n",
              "      <th>revenue</th>\n",
              "    </tr>\n",
              "  </thead>\n",
              "  <tbody>\n",
              "    <tr>\n",
              "      <th>0</th>\n",
              "      <td>2015</td>\n",
              "      <td>Adventure</td>\n",
              "      <td>336747794875</td>\n",
              "    </tr>\n",
              "    <tr>\n",
              "      <th>1</th>\n",
              "      <td>2014</td>\n",
              "      <td>Action</td>\n",
              "      <td>324859138377</td>\n",
              "    </tr>\n",
              "    <tr>\n",
              "      <th>2</th>\n",
              "      <td>2012</td>\n",
              "      <td>Adventure</td>\n",
              "      <td>285735933955</td>\n",
              "    </tr>\n",
              "    <tr>\n",
              "      <th>3</th>\n",
              "      <td>2009</td>\n",
              "      <td>Adventure</td>\n",
              "      <td>257985198106</td>\n",
              "    </tr>\n",
              "    <tr>\n",
              "      <th>4</th>\n",
              "      <td>2013</td>\n",
              "      <td>Adventure</td>\n",
              "      <td>240855359340</td>\n",
              "    </tr>\n",
              "    <tr>\n",
              "      <th>5</th>\n",
              "      <td>2011</td>\n",
              "      <td>Adventure</td>\n",
              "      <td>233903370818</td>\n",
              "    </tr>\n",
              "    <tr>\n",
              "      <th>6</th>\n",
              "      <td>2010</td>\n",
              "      <td>Adventure</td>\n",
              "      <td>200777913456</td>\n",
              "    </tr>\n",
              "    <tr>\n",
              "      <th>7</th>\n",
              "      <td>2007</td>\n",
              "      <td>Adventure</td>\n",
              "      <td>178950315693</td>\n",
              "    </tr>\n",
              "    <tr>\n",
              "      <th>8</th>\n",
              "      <td>2003</td>\n",
              "      <td>Action</td>\n",
              "      <td>174196079792</td>\n",
              "    </tr>\n",
              "    <tr>\n",
              "      <th>9</th>\n",
              "      <td>2004</td>\n",
              "      <td>Adventure</td>\n",
              "      <td>169115701443</td>\n",
              "    </tr>\n",
              "    <tr>\n",
              "      <th>10</th>\n",
              "      <td>2008</td>\n",
              "      <td>Action</td>\n",
              "      <td>164629875997</td>\n",
              "    </tr>\n",
              "    <tr>\n",
              "      <th>11</th>\n",
              "      <td>2005</td>\n",
              "      <td>Adventure</td>\n",
              "      <td>153227484365</td>\n",
              "    </tr>\n",
              "    <tr>\n",
              "      <th>12</th>\n",
              "      <td>2006</td>\n",
              "      <td>Adventure</td>\n",
              "      <td>149279820815</td>\n",
              "    </tr>\n",
              "    <tr>\n",
              "      <th>13</th>\n",
              "      <td>2002</td>\n",
              "      <td>Action</td>\n",
              "      <td>132852446038</td>\n",
              "    </tr>\n",
              "    <tr>\n",
              "      <th>14</th>\n",
              "      <td>1997</td>\n",
              "      <td>Thriller</td>\n",
              "      <td>131620086181</td>\n",
              "    </tr>\n",
              "    <tr>\n",
              "      <th>15</th>\n",
              "      <td>1995</td>\n",
              "      <td>Drama</td>\n",
              "      <td>120210721330</td>\n",
              "    </tr>\n",
              "    <tr>\n",
              "      <th>16</th>\n",
              "      <td>2001</td>\n",
              "      <td>Adventure</td>\n",
              "      <td>113674221898</td>\n",
              "    </tr>\n",
              "    <tr>\n",
              "      <th>17</th>\n",
              "      <td>1999</td>\n",
              "      <td>Drama</td>\n",
              "      <td>103931616627</td>\n",
              "    </tr>\n",
              "    <tr>\n",
              "      <th>18</th>\n",
              "      <td>2000</td>\n",
              "      <td>Comedy</td>\n",
              "      <td>97316827546</td>\n",
              "    </tr>\n",
              "    <tr>\n",
              "      <th>19</th>\n",
              "      <td>1996</td>\n",
              "      <td>Action</td>\n",
              "      <td>92731900860</td>\n",
              "    </tr>\n",
              "    <tr>\n",
              "      <th>20</th>\n",
              "      <td>1998</td>\n",
              "      <td>Drama</td>\n",
              "      <td>83460073895</td>\n",
              "    </tr>\n",
              "    <tr>\n",
              "      <th>21</th>\n",
              "      <td>1993</td>\n",
              "      <td>Drama</td>\n",
              "      <td>83364565526</td>\n",
              "    </tr>\n",
              "    <tr>\n",
              "      <th>22</th>\n",
              "      <td>1994</td>\n",
              "      <td>Drama</td>\n",
              "      <td>76657079070</td>\n",
              "    </tr>\n",
              "    <tr>\n",
              "      <th>23</th>\n",
              "      <td>1992</td>\n",
              "      <td>Thriller</td>\n",
              "      <td>63289294994</td>\n",
              "    </tr>\n",
              "    <tr>\n",
              "      <th>24</th>\n",
              "      <td>1989</td>\n",
              "      <td>Comedy</td>\n",
              "      <td>54102798095</td>\n",
              "    </tr>\n",
              "    <tr>\n",
              "      <th>25</th>\n",
              "      <td>1990</td>\n",
              "      <td>Comedy</td>\n",
              "      <td>53072272471</td>\n",
              "    </tr>\n",
              "    <tr>\n",
              "      <th>26</th>\n",
              "      <td>1988</td>\n",
              "      <td>Comedy</td>\n",
              "      <td>50014814055</td>\n",
              "    </tr>\n",
              "    <tr>\n",
              "      <th>27</th>\n",
              "      <td>1991</td>\n",
              "      <td>Action</td>\n",
              "      <td>45675451002</td>\n",
              "    </tr>\n",
              "    <tr>\n",
              "      <th>28</th>\n",
              "      <td>1987</td>\n",
              "      <td>Comedy</td>\n",
              "      <td>38921444133</td>\n",
              "    </tr>\n",
              "    <tr>\n",
              "      <th>29</th>\n",
              "      <td>1984</td>\n",
              "      <td>Action</td>\n",
              "      <td>35494723068</td>\n",
              "    </tr>\n",
              "    <tr>\n",
              "      <th>30</th>\n",
              "      <td>1983</td>\n",
              "      <td>Action</td>\n",
              "      <td>32310784847</td>\n",
              "    </tr>\n",
              "    <tr>\n",
              "      <th>31</th>\n",
              "      <td>1985</td>\n",
              "      <td>Drama</td>\n",
              "      <td>32232314784</td>\n",
              "    </tr>\n",
              "    <tr>\n",
              "      <th>32</th>\n",
              "      <td>1982</td>\n",
              "      <td>Adventure</td>\n",
              "      <td>29686556925</td>\n",
              "    </tr>\n",
              "    <tr>\n",
              "      <th>33</th>\n",
              "      <td>1986</td>\n",
              "      <td>Drama</td>\n",
              "      <td>29493166575</td>\n",
              "    </tr>\n",
              "    <tr>\n",
              "      <th>34</th>\n",
              "      <td>1977</td>\n",
              "      <td>Adventure</td>\n",
              "      <td>29311058923</td>\n",
              "    </tr>\n",
              "    <tr>\n",
              "      <th>35</th>\n",
              "      <td>1980</td>\n",
              "      <td>Action</td>\n",
              "      <td>23389509302</td>\n",
              "    </tr>\n",
              "    <tr>\n",
              "      <th>36</th>\n",
              "      <td>1979</td>\n",
              "      <td>Drama</td>\n",
              "      <td>21402445575</td>\n",
              "    </tr>\n",
              "    <tr>\n",
              "      <th>37</th>\n",
              "      <td>1973</td>\n",
              "      <td>Drama</td>\n",
              "      <td>19549664800</td>\n",
              "    </tr>\n",
              "    <tr>\n",
              "      <th>38</th>\n",
              "      <td>1981</td>\n",
              "      <td>Action</td>\n",
              "      <td>19308542625</td>\n",
              "    </tr>\n",
              "    <tr>\n",
              "      <th>39</th>\n",
              "      <td>1975</td>\n",
              "      <td>Horror</td>\n",
              "      <td>14588657975</td>\n",
              "    </tr>\n",
              "    <tr>\n",
              "      <th>40</th>\n",
              "      <td>1970</td>\n",
              "      <td>Drama</td>\n",
              "      <td>11873024850</td>\n",
              "    </tr>\n",
              "    <tr>\n",
              "      <th>41</th>\n",
              "      <td>1974</td>\n",
              "      <td>Thriller</td>\n",
              "      <td>11019596781</td>\n",
              "    </tr>\n",
              "    <tr>\n",
              "      <th>42</th>\n",
              "      <td>1967</td>\n",
              "      <td>Adventure</td>\n",
              "      <td>10336827925</td>\n",
              "    </tr>\n",
              "    <tr>\n",
              "      <th>43</th>\n",
              "      <td>1976</td>\n",
              "      <td>Drama</td>\n",
              "      <td>9554051075</td>\n",
              "    </tr>\n",
              "    <tr>\n",
              "      <th>44</th>\n",
              "      <td>1978</td>\n",
              "      <td>Action</td>\n",
              "      <td>9459503569</td>\n",
              "    </tr>\n",
              "    <tr>\n",
              "      <th>45</th>\n",
              "      <td>1972</td>\n",
              "      <td>Drama</td>\n",
              "      <td>7782219150</td>\n",
              "    </tr>\n",
              "    <tr>\n",
              "      <th>46</th>\n",
              "      <td>1971</td>\n",
              "      <td>Thriller</td>\n",
              "      <td>7345286875</td>\n",
              "    </tr>\n",
              "    <tr>\n",
              "      <th>47</th>\n",
              "      <td>1965</td>\n",
              "      <td>Drama</td>\n",
              "      <td>6981404900</td>\n",
              "    </tr>\n",
              "    <tr>\n",
              "      <th>48</th>\n",
              "      <td>1962</td>\n",
              "      <td>Adventure</td>\n",
              "      <td>4490000000</td>\n",
              "    </tr>\n",
              "    <tr>\n",
              "      <th>49</th>\n",
              "      <td>1964</td>\n",
              "      <td>Music</td>\n",
              "      <td>4381831900</td>\n",
              "    </tr>\n",
              "    <tr>\n",
              "      <th>50</th>\n",
              "      <td>1961</td>\n",
              "      <td>Adventure</td>\n",
              "      <td>4176580224</td>\n",
              "    </tr>\n",
              "    <tr>\n",
              "      <th>51</th>\n",
              "      <td>1968</td>\n",
              "      <td>Drama</td>\n",
              "      <td>3567262581</td>\n",
              "    </tr>\n",
              "    <tr>\n",
              "      <th>52</th>\n",
              "      <td>1960</td>\n",
              "      <td>Drama</td>\n",
              "      <td>2979000000</td>\n",
              "    </tr>\n",
              "    <tr>\n",
              "      <th>53</th>\n",
              "      <td>1963</td>\n",
              "      <td>Thriller</td>\n",
              "      <td>2434333825</td>\n",
              "    </tr>\n",
              "    <tr>\n",
              "      <th>54</th>\n",
              "      <td>1969</td>\n",
              "      <td>Adventure</td>\n",
              "      <td>2122328350</td>\n",
              "    </tr>\n",
              "    <tr>\n",
              "      <th>55</th>\n",
              "      <td>1966</td>\n",
              "      <td>Drama</td>\n",
              "      <td>1343417225</td>\n",
              "    </tr>\n",
              "  </tbody>\n",
              "</table>\n",
              "</div>"
            ],
            "text/plain": [
              "    release_year     genres       revenue\n",
              "0           2015  Adventure  336747794875\n",
              "1           2014     Action  324859138377\n",
              "2           2012  Adventure  285735933955\n",
              "3           2009  Adventure  257985198106\n",
              "4           2013  Adventure  240855359340\n",
              "5           2011  Adventure  233903370818\n",
              "6           2010  Adventure  200777913456\n",
              "7           2007  Adventure  178950315693\n",
              "8           2003     Action  174196079792\n",
              "9           2004  Adventure  169115701443\n",
              "10          2008     Action  164629875997\n",
              "11          2005  Adventure  153227484365\n",
              "12          2006  Adventure  149279820815\n",
              "13          2002     Action  132852446038\n",
              "14          1997   Thriller  131620086181\n",
              "15          1995      Drama  120210721330\n",
              "16          2001  Adventure  113674221898\n",
              "17          1999      Drama  103931616627\n",
              "18          2000     Comedy   97316827546\n",
              "19          1996     Action   92731900860\n",
              "20          1998      Drama   83460073895\n",
              "21          1993      Drama   83364565526\n",
              "22          1994      Drama   76657079070\n",
              "23          1992   Thriller   63289294994\n",
              "24          1989     Comedy   54102798095\n",
              "25          1990     Comedy   53072272471\n",
              "26          1988     Comedy   50014814055\n",
              "27          1991     Action   45675451002\n",
              "28          1987     Comedy   38921444133\n",
              "29          1984     Action   35494723068\n",
              "30          1983     Action   32310784847\n",
              "31          1985      Drama   32232314784\n",
              "32          1982  Adventure   29686556925\n",
              "33          1986      Drama   29493166575\n",
              "34          1977  Adventure   29311058923\n",
              "35          1980     Action   23389509302\n",
              "36          1979      Drama   21402445575\n",
              "37          1973      Drama   19549664800\n",
              "38          1981     Action   19308542625\n",
              "39          1975     Horror   14588657975\n",
              "40          1970      Drama   11873024850\n",
              "41          1974   Thriller   11019596781\n",
              "42          1967  Adventure   10336827925\n",
              "43          1976      Drama    9554051075\n",
              "44          1978     Action    9459503569\n",
              "45          1972      Drama    7782219150\n",
              "46          1971   Thriller    7345286875\n",
              "47          1965      Drama    6981404900\n",
              "48          1962  Adventure    4490000000\n",
              "49          1964      Music    4381831900\n",
              "50          1961  Adventure    4176580224\n",
              "51          1968      Drama    3567262581\n",
              "52          1960      Drama    2979000000\n",
              "53          1963   Thriller    2434333825\n",
              "54          1969  Adventure    2122328350\n",
              "55          1966      Drama    1343417225"
            ]
          },
          "metadata": {
            "tags": []
          },
          "execution_count": 41
        }
      ]
    },
    {
      "cell_type": "code",
      "metadata": {
        "id": "jtjwVJhZF9yp",
        "colab_type": "code",
        "colab": {}
      },
      "source": [
        "# to exporting it to the Report \n",
        "df_people[['release_year'\t,'genres']].to_csv('geners_each_year.csv')"
      ],
      "execution_count": 42,
      "outputs": []
    },
    {
      "cell_type": "code",
      "metadata": {
        "id": "l903VA9OGKJJ",
        "colab_type": "code",
        "colab": {}
      },
      "source": [
        "\n",
        "no=df.groupby('release_year')['id'].count()\n",
        "\n",
        "\n"
      ],
      "execution_count": 43,
      "outputs": []
    },
    {
      "cell_type": "code",
      "metadata": {
        "id": "2zYGBV8epGUy",
        "colab_type": "code",
        "colab": {
          "base_uri": "https://localhost:8080/",
          "height": 879
        },
        "outputId": "7c353947-5fa5-4840-900c-4fb62fb27630"
      },
      "source": [
        "plt.figure(figsize=(10,15))\n",
        "plt.barh(no.index,no)\n",
        "plt.yticks(ticks=no.index)\n",
        "\n",
        "\n",
        "plt.title('Each year and its number of movies ')\n",
        "plt.show()"
      ],
      "execution_count": 44,
      "outputs": [
        {
          "output_type": "display_data",
          "data": {
            "image/png": "[encoded data removed]",
            "text/plain": [
              "<Figure size 720x1080 with 1 Axes>"
            ]
          },
          "metadata": {
            "tags": [],
            "needs_background": "light"
          }
        }
      ]
    },
    {
      "cell_type": "markdown",
      "metadata": {
        "id": "5RyJXj-fJlWs",
        "colab_type": "text"
      },
      "source": [
        "# What is the year with the bigges number of movies "
      ]
    },
    {
      "cell_type": "code",
      "metadata": {
        "id": "sDRvpLhESmQk",
        "colab_type": "code",
        "colab": {
          "base_uri": "https://localhost:8080/",
          "height": 879
        },
        "outputId": "8f60c22a-acfa-44e9-93d5-2269df6ffb0b"
      },
      "source": [
        "\n",
        "plt.figure(figsize=(10,15))\n",
        "plt.barh(no.index,no)\n",
        "plt.yticks(ticks=no.index)\n",
        "\n",
        "\n",
        "plt.title('Each year and its number of movies ')\n",
        "plt.show()"
      ],
      "execution_count": 45,
      "outputs": [
        {
          "output_type": "display_data",
          "data": {
            "image/png": "[encoded data removed]",
            "text/plain": [
              "<Figure size 720x1080 with 1 Axes>"
            ]
          },
          "metadata": {
            "tags": [],
            "needs_background": "light"
          }
        }
      ]
    },
    {
      "cell_type": "markdown",
      "metadata": {
        "id": "KmvC3vPdgqKM",
        "colab_type": "text"
      },
      "source": [
        "# which Company producted the biggest number of shows?\n",
        "\n",
        "---\n",
        "\n",
        "\n",
        "\n",
        "---\n",
        "\n"
      ]
    },
    {
      "cell_type": "code",
      "metadata": {
        "id": "-WSpzqenQhUl",
        "colab_type": "code",
        "colab": {
          "base_uri": "https://localhost:8080/",
          "height": 241
        },
        "outputId": "719040f4-954e-49af-ec85-6bdcac32be47"
      },
      "source": [
        "df['production_companies'].value_counts()"
      ],
      "execution_count": 46,
      "outputs": [
        {
          "output_type": "execute_result",
          "data": {
            "text/plain": [
              "Paramount Pictures                                                                                                                  7541\n",
              "Universal Pictures                                                                                                                  6206\n",
              "Columbia Pictures                                                                                                                   4014\n",
              "Warner Bros.                                                                                                                        3477\n",
              "Walt Disney Pictures                                                                                                                3303\n",
              "                                                                                                                                    ... \n",
              "Bac Films|TF1 Films Production|Canal+|Mandarin Films                                                                                   1\n",
              "Open Road Films                                                                                                                        1\n",
              "Columbia Pictures|William Castle Productions                                                                                           1\n",
              "Blumhouse Productions|IM Global Octane|Reliance                                                                                        1\n",
              "The Hatchery|Sony Pictures Television|Magna Global Entertainment|Johnson & Johnson Spotlight Presentations|Thomas Carter Company       1\n",
              "Name: production_companies, Length: 6626, dtype: int64"
            ]
          },
          "metadata": {
            "tags": []
          },
          "execution_count": 46
        }
      ]
    },
    {
      "cell_type": "code",
      "metadata": {
        "id": "o4CfKzRHX2Ei",
        "colab_type": "code",
        "colab": {}
      },
      "source": [
        "#dfprod=df.drop('production_companies', axis=1).join(df['production_companies'].str.split('|', expand=True).stack().reset_index(level=1, drop=True).rename('production_companies'))\n",
        "dfprod=df['production_companies'].str.split('|', expand=True).stack().reset_index(level=1, drop=True).rename('production_companies')"
      ],
      "execution_count": 47,
      "outputs": []
    },
    {
      "cell_type": "code",
      "metadata": {
        "id": "Ysz9vnHWY85C",
        "colab_type": "code",
        "colab": {
          "base_uri": "https://localhost:8080/",
          "height": 119
        },
        "outputId": "3beabbb5-1d6e-44f9-e803-8fb4d7a088d2"
      },
      "source": [
        "dfproduction=dfprod.value_counts()\n",
        "dfproduction=dfproduction.iloc[0:5]\n",
        "dfproduction=dfproduction/dfproduction.sum() *100\n",
        "dfproduction"
      ],
      "execution_count": 48,
      "outputs": [
        {
          "output_type": "execute_result",
          "data": {
            "text/plain": [
              "Warner Bros.                              25.697463\n",
              "Universal Pictures                        24.768128\n",
              "Paramount Pictures                        21.010179\n",
              "Twentieth Century Fox Film Corporation    14.885979\n",
              "Columbia Pictures                         13.638251\n",
              "Name: production_companies, dtype: float64"
            ]
          },
          "metadata": {
            "tags": []
          },
          "execution_count": 48
        }
      ]
    },
    {
      "cell_type": "code",
      "metadata": {
        "id": "qihS571Kbug0",
        "colab_type": "code",
        "colab": {
          "base_uri": "https://localhost:8080/",
          "height": 591
        },
        "outputId": "f213e3c6-7213-4c5c-a3dc-c79c8794d1d8"
      },
      "source": [
        "\n",
        "plt.figure(figsize=(10,10))\n",
        "explode = (0.1, 0, 0, 0,0)  # only \"explode\" the 2nd slice (i.e. 'Hogs')\n",
        "plt.pie(dfproduction,labels =dfproduction.index, explode=explode, autopct='%1.1f%%',shadow=True, startangle=90)\n",
        "\n",
        "plt.title('The 5 biggest companies in producing shows')\n",
        "plt.show()"
      ],
      "execution_count": 49,
      "outputs": [
        {
          "output_type": "display_data",
          "data": {
            "image/png": "[encoded data removed]",
            "text/plain": [
              "<Figure size 720x720 with 1 Axes>"
            ]
          },
          "metadata": {
            "tags": []
          }
        }
      ]
    },
    {
      "cell_type": "markdown",
      "metadata": {
        "id": "4Zvrcqg4yTzH",
        "colab_type": "text"
      },
      "source": [
        "# This analysis was by Ahmed Elrefaey "
      ]
    },
    {
      "cell_type": "code",
      "metadata": {
        "id": "56o8tp9EyY4M",
        "colab_type": "code",
        "colab": {}
      },
      "source": [
        ""
      ],
      "execution_count": 49,
      "outputs": []
    }
  ]
}