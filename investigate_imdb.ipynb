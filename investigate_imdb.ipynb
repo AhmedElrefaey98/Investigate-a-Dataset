{
  "nbformat": 4,
  "nbformat_minor": 0,
  "metadata": {
    "kernelspec": {
      "display_name": "Python [default]",
      "language": "python",
      "name": "python3"
    },
    "language_info": {
      "codemirror_mode": {
        "name": "ipython",
        "version": 3
      },
      "file_extension": ".py",
      "mimetype": "text/x-python",
      "name": "python",
      "nbconvert_exporter": "python",
      "pygments_lexer": "ipython3",
      "version": "3.5.3"
    },
    "colab": {
      "name": "investigate-imdb.ipynb",
      "provenance": [],
      "collapsed_sections": [],
      "toc_visible": true,
      "include_colab_link": true
    }
  },
  "cells": [
    {
      "cell_type": "markdown",
      "metadata": {
        "id": "view-in-github",
        "colab_type": "text"
      },
      "source": [
        "<a href=\"https://colab.research.google.com/github/AhmedElrifo/Investigate-a-Dataset/blob/master/investigate_imdb.ipynb\" target=\"_parent\"><img src=\"https://colab.research.google.com/assets/colab-badge.svg\" alt=\"Open In Colab\"/></a>"
      ]
    },
    {
      "cell_type": "markdown",
      "metadata": {
        "id": "TboOoknXqMUN",
        "colab_type": "text"
      },
      "source": [
        "\n",
        "\n",
        "# Project: Investigation of IMDB dataset\n",
        "\n"
      ]
    },
    {
      "cell_type": "markdown",
      "metadata": {
        "id": "6Q6YpACSqMUO",
        "colab_type": "text"
      },
      "source": [
        "<a id='intro'></a>\n",
        "## Introduction\n",
        "\n",
        "> The dataset includes data about different shows throughout the history and it includes features like cast , name of the show ,genere , budget and revenue .\n",
        ">\n",
        "> \n",
        "\n",
        "1.   What is the most selling genere in the history?\n",
        "2.   are the revenues of each year improving ?\n",
        "3.   what are the people's choice each year ?\n",
        "4.   What is the year with the biggest number of movies?\n",
        "5.   which Company produced the biggest number of shows?\n",
        "\n"
      ]
    },
    {
      "cell_type": "code",
      "metadata": {
        "id": "gPaAb8lfqMUP",
        "colab_type": "code",
        "colab": {}
      },
      "source": [
        "import pandas as pd \n",
        "import matplotlib.pyplot as plt\n",
        "% matplotlib inline\n",
        "import numpy as np \n"
      ],
      "execution_count": 48,
      "outputs": []
    },
    {
      "cell_type": "markdown",
      "metadata": {
        "id": "yrF8mGyrqMUU",
        "colab_type": "text"
      },
      "source": [
        "<a id='wrangling'></a>\n",
        "## Data Wrangling\n",
        "\n"
      ]
    },
    {
      "cell_type": "code",
      "metadata": {
        "id": "gpTZVvpoqMUV",
        "colab_type": "code",
        "colab": {
          "base_uri": "https://localhost:8080/",
          "height": 267
        },
        "outputId": "55eae70d-4d49-4414-ca5c-6b0ce64a7763"
      },
      "source": [
        "df=pd.read_csv('/content/tmdb-movies.csv')\n",
        "df.head(2)"
      ],
      "execution_count": 49,
      "outputs": [
        {
          "output_type": "execute_result",
          "data": {
            "text/html": [
              "<div>\n",
              "<style scoped>\n",
              "    .dataframe tbody tr th:only-of-type {\n",
              "        vertical-align: middle;\n",
              "    }\n",
              "\n",
              "    .dataframe tbody tr th {\n",
              "        vertical-align: top;\n",
              "    }\n",
              "\n",
              "    .dataframe thead th {\n",
              "        text-align: right;\n",
              "    }\n",
              "</style>\n",
              "<table border=\"1\" class=\"dataframe\">\n",
              "  <thead>\n",
              "    <tr style=\"text-align: right;\">\n",
              "      <th></th>\n",
              "      <th>id</th>\n",
              "      <th>imdb_id</th>\n",
              "      <th>popularity</th>\n",
              "      <th>budget</th>\n",
              "      <th>revenue</th>\n",
              "      <th>original_title</th>\n",
              "      <th>cast</th>\n",
              "      <th>homepage</th>\n",
              "      <th>director</th>\n",
              "      <th>tagline</th>\n",
              "      <th>keywords</th>\n",
              "      <th>overview</th>\n",
              "      <th>runtime</th>\n",
              "      <th>genres</th>\n",
              "      <th>production_companies</th>\n",
              "      <th>release_date</th>\n",
              "      <th>vote_count</th>\n",
              "      <th>vote_average</th>\n",
              "      <th>release_year</th>\n",
              "      <th>budget_adj</th>\n",
              "      <th>revenue_adj</th>\n",
              "    </tr>\n",
              "  </thead>\n",
              "  <tbody>\n",
              "    <tr>\n",
              "      <th>0</th>\n",
              "      <td>135397</td>\n",
              "      <td>tt0369610</td>\n",
              "      <td>32.985763</td>\n",
              "      <td>150000000</td>\n",
              "      <td>1513528810</td>\n",
              "      <td>Jurassic World</td>\n",
              "      <td>Chris Pratt|Bryce Dallas Howard|Irrfan Khan|Vi...</td>\n",
              "      <td>http://www.jurassicworld.com/</td>\n",
              "      <td>Colin Trevorrow</td>\n",
              "      <td>The park is open.</td>\n",
              "      <td>monster|dna|tyrannosaurus rex|velociraptor|island</td>\n",
              "      <td>Twenty-two years after the events of Jurassic ...</td>\n",
              "      <td>124</td>\n",
              "      <td>Action|Adventure|Science Fiction|Thriller</td>\n",
              "      <td>Universal Studios|Amblin Entertainment|Legenda...</td>\n",
              "      <td>6/9/15</td>\n",
              "      <td>5562</td>\n",
              "      <td>6.5</td>\n",
              "      <td>2015</td>\n",
              "      <td>1.379999e+08</td>\n",
              "      <td>1.392446e+09</td>\n",
              "    </tr>\n",
              "    <tr>\n",
              "      <th>1</th>\n",
              "      <td>76341</td>\n",
              "      <td>tt1392190</td>\n",
              "      <td>28.419936</td>\n",
              "      <td>150000000</td>\n",
              "      <td>378436354</td>\n",
              "      <td>Mad Max: Fury Road</td>\n",
              "      <td>Tom Hardy|Charlize Theron|Hugh Keays-Byrne|Nic...</td>\n",
              "      <td>http://www.madmaxmovie.com/</td>\n",
              "      <td>George Miller</td>\n",
              "      <td>What a Lovely Day.</td>\n",
              "      <td>future|chase|post-apocalyptic|dystopia|australia</td>\n",
              "      <td>An apocalyptic story set in the furthest reach...</td>\n",
              "      <td>120</td>\n",
              "      <td>Action|Adventure|Science Fiction|Thriller</td>\n",
              "      <td>Village Roadshow Pictures|Kennedy Miller Produ...</td>\n",
              "      <td>5/13/15</td>\n",
              "      <td>6185</td>\n",
              "      <td>7.1</td>\n",
              "      <td>2015</td>\n",
              "      <td>1.379999e+08</td>\n",
              "      <td>3.481613e+08</td>\n",
              "    </tr>\n",
              "  </tbody>\n",
              "</table>\n",
              "</div>"
            ],
            "text/plain": [
              "       id    imdb_id  popularity  ...  release_year    budget_adj   revenue_adj\n",
              "0  135397  tt0369610   32.985763  ...          2015  1.379999e+08  1.392446e+09\n",
              "1   76341  tt1392190   28.419936  ...          2015  1.379999e+08  3.481613e+08\n",
              "\n",
              "[2 rows x 21 columns]"
            ]
          },
          "metadata": {
            "tags": []
          },
          "execution_count": 49
        }
      ]
    },
    {
      "cell_type": "code",
      "metadata": {
        "id": "xqcz1HuxvE5H",
        "colab_type": "code",
        "colab": {
          "base_uri": "https://localhost:8080/",
          "height": 697
        },
        "outputId": "22d28fa7-fedb-4053-bec8-1b704047a82e"
      },
      "source": [
        "print(df.info(),'\\n',df.describe())"
      ],
      "execution_count": 50,
      "outputs": [
        {
          "output_type": "stream",
          "text": [
            "<class 'pandas.core.frame.DataFrame'>\n",
            "RangeIndex: 10866 entries, 0 to 10865\n",
            "Data columns (total 21 columns):\n",
            " #   Column                Non-Null Count  Dtype  \n",
            "---  ------                --------------  -----  \n",
            " 0   id                    10866 non-null  int64  \n",
            " 1   imdb_id               10856 non-null  object \n",
            " 2   popularity            10866 non-null  float64\n",
            " 3   budget                10866 non-null  int64  \n",
            " 4   revenue               10866 non-null  int64  \n",
            " 5   original_title        10866 non-null  object \n",
            " 6   cast                  10790 non-null  object \n",
            " 7   homepage              2936 non-null   object \n",
            " 8   director              10822 non-null  object \n",
            " 9   tagline               8042 non-null   object \n",
            " 10  keywords              9373 non-null   object \n",
            " 11  overview              10862 non-null  object \n",
            " 12  runtime               10866 non-null  int64  \n",
            " 13  genres                10843 non-null  object \n",
            " 14  production_companies  9836 non-null   object \n",
            " 15  release_date          10866 non-null  object \n",
            " 16  vote_count            10866 non-null  int64  \n",
            " 17  vote_average          10866 non-null  float64\n",
            " 18  release_year          10866 non-null  int64  \n",
            " 19  budget_adj            10866 non-null  float64\n",
            " 20  revenue_adj           10866 non-null  float64\n",
            "dtypes: float64(4), int64(6), object(11)\n",
            "memory usage: 1.7+ MB\n",
            "None \n",
            "                   id    popularity  ...    budget_adj   revenue_adj\n",
            "count   10866.000000  10866.000000  ...  1.086600e+04  1.086600e+04\n",
            "mean    66064.177434      0.646441  ...  1.755104e+07  5.136436e+07\n",
            "std     92130.136561      1.000185  ...  3.430616e+07  1.446325e+08\n",
            "min         5.000000      0.000065  ...  0.000000e+00  0.000000e+00\n",
            "25%     10596.250000      0.207583  ...  0.000000e+00  0.000000e+00\n",
            "50%     20669.000000      0.383856  ...  0.000000e+00  0.000000e+00\n",
            "75%     75610.000000      0.713817  ...  2.085325e+07  3.369710e+07\n",
            "max    417859.000000     32.985763  ...  4.250000e+08  2.827124e+09\n",
            "\n",
            "[8 rows x 10 columns]\n"
          ],
          "name": "stdout"
        }
      ]
    },
    {
      "cell_type": "code",
      "metadata": {
        "id": "flI4gRYrvRU8",
        "colab_type": "code",
        "colab": {
          "base_uri": "https://localhost:8080/",
          "height": 391
        },
        "outputId": "19a71156-cfdc-40a5-edf0-fe0e5c8bd7b8"
      },
      "source": [
        "df.nunique()"
      ],
      "execution_count": 51,
      "outputs": [
        {
          "output_type": "execute_result",
          "data": {
            "text/plain": [
              "id                      10865\n",
              "imdb_id                 10855\n",
              "popularity              10814\n",
              "budget                    557\n",
              "revenue                  4702\n",
              "original_title          10571\n",
              "cast                    10719\n",
              "homepage                 2896\n",
              "director                 5067\n",
              "tagline                  7997\n",
              "keywords                 8804\n",
              "overview                10847\n",
              "runtime                   247\n",
              "genres                   2039\n",
              "production_companies     7445\n",
              "release_date             5909\n",
              "vote_count               1289\n",
              "vote_average               72\n",
              "release_year               56\n",
              "budget_adj               2614\n",
              "revenue_adj              4840\n",
              "dtype: int64"
            ]
          },
          "metadata": {
            "tags": []
          },
          "execution_count": 51
        }
      ]
    },
    {
      "cell_type": "markdown",
      "metadata": {
        "id": "IFjN4NCyqMUY",
        "colab_type": "text"
      },
      "source": [
        "Data wrangling and cleaning"
      ]
    },
    {
      "cell_type": "code",
      "metadata": {
        "id": "FLLfL5aIqMUa",
        "colab_type": "code",
        "colab": {
          "base_uri": "https://localhost:8080/",
          "height": 425
        },
        "outputId": "e2d45251-2cd6-456d-9eee-e13b86b49f23"
      },
      "source": [
        "# dropping unnecessary columns \n",
        "df=df.drop(columns=['imdb_id','homepage','tagline','overview'])\n",
        "\n",
        "#dropping  rows null in keywords or production companies\n",
        "df=df.dropna(subset=['keywords','production_companies'])\n",
        "df.info()"
      ],
      "execution_count": 52,
      "outputs": [
        {
          "output_type": "stream",
          "text": [
            "<class 'pandas.core.frame.DataFrame'>\n",
            "Int64Index: 8706 entries, 0 to 10865\n",
            "Data columns (total 17 columns):\n",
            " #   Column                Non-Null Count  Dtype  \n",
            "---  ------                --------------  -----  \n",
            " 0   id                    8706 non-null   int64  \n",
            " 1   popularity            8706 non-null   float64\n",
            " 2   budget                8706 non-null   int64  \n",
            " 3   revenue               8706 non-null   int64  \n",
            " 4   original_title        8706 non-null   object \n",
            " 5   cast                  8681 non-null   object \n",
            " 6   director              8696 non-null   object \n",
            " 7   keywords              8706 non-null   object \n",
            " 8   runtime               8706 non-null   int64  \n",
            " 9   genres                8702 non-null   object \n",
            " 10  production_companies  8706 non-null   object \n",
            " 11  release_date          8706 non-null   object \n",
            " 12  vote_count            8706 non-null   int64  \n",
            " 13  vote_average          8706 non-null   float64\n",
            " 14  release_year          8706 non-null   int64  \n",
            " 15  budget_adj            8706 non-null   float64\n",
            " 16  revenue_adj           8706 non-null   float64\n",
            "dtypes: float64(4), int64(6), object(7)\n",
            "memory usage: 1.2+ MB\n"
          ],
          "name": "stdout"
        }
      ]
    },
    {
      "cell_type": "markdown",
      "metadata": {
        "id": "hyamuigWv0qc",
        "colab_type": "text"
      },
      "source": [
        "# making new rows with the values after ' | ' and replace it with the multi values rows"
      ]
    },
    {
      "cell_type": "code",
      "metadata": {
        "id": "zfXNHiAWv37q",
        "colab_type": "code",
        "colab": {}
      },
      "source": [
        "#making new rows with the values after ' | '\n",
        "\n",
        "\n",
        "df=df.drop('keywords', axis=1).join(df['keywords'].str.split('|', expand=True).stack().reset_index(level=1, drop=True).rename('keywords'))\n",
        "\n",
        "\n"
      ],
      "execution_count": 53,
      "outputs": []
    },
    {
      "cell_type": "code",
      "metadata": {
        "id": "tXKilrqwv610",
        "colab_type": "code",
        "colab": {
          "base_uri": "https://localhost:8080/",
          "height": 564
        },
        "outputId": "751e51ae-865e-4532-b56d-b182c4d2e5e1"
      },
      "source": [
        "#making new rows with the values after ' | '\n",
        "df=df.drop('genres', axis=1).join(df['genres'].str.split('|', expand=True).stack().reset_index(level=1, drop=True).rename('genres'))\n",
        "df.head()"
      ],
      "execution_count": 54,
      "outputs": [
        {
          "output_type": "execute_result",
          "data": {
            "text/html": [
              "<div>\n",
              "<style scoped>\n",
              "    .dataframe tbody tr th:only-of-type {\n",
              "        vertical-align: middle;\n",
              "    }\n",
              "\n",
              "    .dataframe tbody tr th {\n",
              "        vertical-align: top;\n",
              "    }\n",
              "\n",
              "    .dataframe thead th {\n",
              "        text-align: right;\n",
              "    }\n",
              "</style>\n",
              "<table border=\"1\" class=\"dataframe\">\n",
              "  <thead>\n",
              "    <tr style=\"text-align: right;\">\n",
              "      <th></th>\n",
              "      <th>id</th>\n",
              "      <th>popularity</th>\n",
              "      <th>budget</th>\n",
              "      <th>revenue</th>\n",
              "      <th>original_title</th>\n",
              "      <th>cast</th>\n",
              "      <th>director</th>\n",
              "      <th>runtime</th>\n",
              "      <th>production_companies</th>\n",
              "      <th>release_date</th>\n",
              "      <th>vote_count</th>\n",
              "      <th>vote_average</th>\n",
              "      <th>release_year</th>\n",
              "      <th>budget_adj</th>\n",
              "      <th>revenue_adj</th>\n",
              "      <th>keywords</th>\n",
              "      <th>genres</th>\n",
              "    </tr>\n",
              "  </thead>\n",
              "  <tbody>\n",
              "    <tr>\n",
              "      <th>0</th>\n",
              "      <td>135397</td>\n",
              "      <td>32.985763</td>\n",
              "      <td>150000000</td>\n",
              "      <td>1513528810</td>\n",
              "      <td>Jurassic World</td>\n",
              "      <td>Chris Pratt|Bryce Dallas Howard|Irrfan Khan|Vi...</td>\n",
              "      <td>Colin Trevorrow</td>\n",
              "      <td>124</td>\n",
              "      <td>Universal Studios|Amblin Entertainment|Legenda...</td>\n",
              "      <td>6/9/15</td>\n",
              "      <td>5562</td>\n",
              "      <td>6.5</td>\n",
              "      <td>2015</td>\n",
              "      <td>1.379999e+08</td>\n",
              "      <td>1.392446e+09</td>\n",
              "      <td>monster</td>\n",
              "      <td>Action</td>\n",
              "    </tr>\n",
              "    <tr>\n",
              "      <th>0</th>\n",
              "      <td>135397</td>\n",
              "      <td>32.985763</td>\n",
              "      <td>150000000</td>\n",
              "      <td>1513528810</td>\n",
              "      <td>Jurassic World</td>\n",
              "      <td>Chris Pratt|Bryce Dallas Howard|Irrfan Khan|Vi...</td>\n",
              "      <td>Colin Trevorrow</td>\n",
              "      <td>124</td>\n",
              "      <td>Universal Studios|Amblin Entertainment|Legenda...</td>\n",
              "      <td>6/9/15</td>\n",
              "      <td>5562</td>\n",
              "      <td>6.5</td>\n",
              "      <td>2015</td>\n",
              "      <td>1.379999e+08</td>\n",
              "      <td>1.392446e+09</td>\n",
              "      <td>monster</td>\n",
              "      <td>Adventure</td>\n",
              "    </tr>\n",
              "    <tr>\n",
              "      <th>0</th>\n",
              "      <td>135397</td>\n",
              "      <td>32.985763</td>\n",
              "      <td>150000000</td>\n",
              "      <td>1513528810</td>\n",
              "      <td>Jurassic World</td>\n",
              "      <td>Chris Pratt|Bryce Dallas Howard|Irrfan Khan|Vi...</td>\n",
              "      <td>Colin Trevorrow</td>\n",
              "      <td>124</td>\n",
              "      <td>Universal Studios|Amblin Entertainment|Legenda...</td>\n",
              "      <td>6/9/15</td>\n",
              "      <td>5562</td>\n",
              "      <td>6.5</td>\n",
              "      <td>2015</td>\n",
              "      <td>1.379999e+08</td>\n",
              "      <td>1.392446e+09</td>\n",
              "      <td>monster</td>\n",
              "      <td>Science Fiction</td>\n",
              "    </tr>\n",
              "    <tr>\n",
              "      <th>0</th>\n",
              "      <td>135397</td>\n",
              "      <td>32.985763</td>\n",
              "      <td>150000000</td>\n",
              "      <td>1513528810</td>\n",
              "      <td>Jurassic World</td>\n",
              "      <td>Chris Pratt|Bryce Dallas Howard|Irrfan Khan|Vi...</td>\n",
              "      <td>Colin Trevorrow</td>\n",
              "      <td>124</td>\n",
              "      <td>Universal Studios|Amblin Entertainment|Legenda...</td>\n",
              "      <td>6/9/15</td>\n",
              "      <td>5562</td>\n",
              "      <td>6.5</td>\n",
              "      <td>2015</td>\n",
              "      <td>1.379999e+08</td>\n",
              "      <td>1.392446e+09</td>\n",
              "      <td>monster</td>\n",
              "      <td>Thriller</td>\n",
              "    </tr>\n",
              "    <tr>\n",
              "      <th>0</th>\n",
              "      <td>135397</td>\n",
              "      <td>32.985763</td>\n",
              "      <td>150000000</td>\n",
              "      <td>1513528810</td>\n",
              "      <td>Jurassic World</td>\n",
              "      <td>Chris Pratt|Bryce Dallas Howard|Irrfan Khan|Vi...</td>\n",
              "      <td>Colin Trevorrow</td>\n",
              "      <td>124</td>\n",
              "      <td>Universal Studios|Amblin Entertainment|Legenda...</td>\n",
              "      <td>6/9/15</td>\n",
              "      <td>5562</td>\n",
              "      <td>6.5</td>\n",
              "      <td>2015</td>\n",
              "      <td>1.379999e+08</td>\n",
              "      <td>1.392446e+09</td>\n",
              "      <td>monster</td>\n",
              "      <td>Action</td>\n",
              "    </tr>\n",
              "  </tbody>\n",
              "</table>\n",
              "</div>"
            ],
            "text/plain": [
              "       id  popularity     budget  ...   revenue_adj keywords           genres\n",
              "0  135397   32.985763  150000000  ...  1.392446e+09  monster           Action\n",
              "0  135397   32.985763  150000000  ...  1.392446e+09  monster        Adventure\n",
              "0  135397   32.985763  150000000  ...  1.392446e+09  monster  Science Fiction\n",
              "0  135397   32.985763  150000000  ...  1.392446e+09  monster         Thriller\n",
              "0  135397   32.985763  150000000  ...  1.392446e+09  monster           Action\n",
              "\n",
              "[5 rows x 17 columns]"
            ]
          },
          "metadata": {
            "tags": []
          },
          "execution_count": 54
        }
      ]
    },
    {
      "cell_type": "code",
      "metadata": {
        "id": "b2gVaoySwAiR",
        "colab_type": "code",
        "colab": {
          "base_uri": "https://localhost:8080/",
          "height": 136
        },
        "outputId": "e31af2c4-5a0c-4f65-b909-b68581accb71"
      },
      "source": [
        "# grouping data to find generes each year\n",
        "df_group2=df[['genres','release_year','revenue']].sort_values(by=['release_year','revenue'],ascending=False).groupby(['release_year','genres'])['revenue'].sum()\n",
        "df_group2.tail()"
      ],
      "execution_count": 55,
      "outputs": [
        {
          "output_type": "execute_result",
          "data": {
            "text/plain": [
              "release_year  genres         \n",
              "2015          Science Fiction    239917408842\n",
              "              TV Movie                      0\n",
              "              Thriller           186804894154\n",
              "              War                 17279356006\n",
              "              Western             17223492850\n",
              "Name: revenue, dtype: int64"
            ]
          },
          "metadata": {
            "tags": []
          },
          "execution_count": 55
        }
      ]
    },
    {
      "cell_type": "code",
      "metadata": {
        "id": "H4ojwVKPwF1y",
        "colab_type": "code",
        "colab": {
          "base_uri": "https://localhost:8080/",
          "height": 419
        },
        "outputId": "41ecc733-a3e3-4e5f-f2a0-143301d162ab"
      },
      "source": [
        "\n",
        "df_group=df.groupby(by=['release_year','genres',])['revenue'].sum().reset_index()\n",
        "\n",
        "df_group.sort_values(by=['release_year','revenue'],ascending=False)"
      ],
      "execution_count": 56,
      "outputs": [
        {
          "output_type": "execute_result",
          "data": {
            "text/html": [
              "<div>\n",
              "<style scoped>\n",
              "    .dataframe tbody tr th:only-of-type {\n",
              "        vertical-align: middle;\n",
              "    }\n",
              "\n",
              "    .dataframe tbody tr th {\n",
              "        vertical-align: top;\n",
              "    }\n",
              "\n",
              "    .dataframe thead th {\n",
              "        text-align: right;\n",
              "    }\n",
              "</style>\n",
              "<table border=\"1\" class=\"dataframe\">\n",
              "  <thead>\n",
              "    <tr style=\"text-align: right;\">\n",
              "      <th></th>\n",
              "      <th>release_year</th>\n",
              "      <th>genres</th>\n",
              "      <th>revenue</th>\n",
              "    </tr>\n",
              "  </thead>\n",
              "  <tbody>\n",
              "    <tr>\n",
              "      <th>1014</th>\n",
              "      <td>2015</td>\n",
              "      <td>Adventure</td>\n",
              "      <td>336747794875</td>\n",
              "    </tr>\n",
              "    <tr>\n",
              "      <th>1013</th>\n",
              "      <td>2015</td>\n",
              "      <td>Action</td>\n",
              "      <td>313138051864</td>\n",
              "    </tr>\n",
              "    <tr>\n",
              "      <th>1027</th>\n",
              "      <td>2015</td>\n",
              "      <td>Science Fiction</td>\n",
              "      <td>239917408842</td>\n",
              "    </tr>\n",
              "    <tr>\n",
              "      <th>1029</th>\n",
              "      <td>2015</td>\n",
              "      <td>Thriller</td>\n",
              "      <td>186804894154</td>\n",
              "    </tr>\n",
              "    <tr>\n",
              "      <th>1016</th>\n",
              "      <td>2015</td>\n",
              "      <td>Comedy</td>\n",
              "      <td>165112820058</td>\n",
              "    </tr>\n",
              "    <tr>\n",
              "      <th>...</th>\n",
              "      <td>...</td>\n",
              "      <td>...</td>\n",
              "      <td>...</td>\n",
              "    </tr>\n",
              "    <tr>\n",
              "      <th>3</th>\n",
              "      <td>1960</td>\n",
              "      <td>Crime</td>\n",
              "      <td>0</td>\n",
              "    </tr>\n",
              "    <tr>\n",
              "      <th>6</th>\n",
              "      <td>1960</td>\n",
              "      <td>Fantasy</td>\n",
              "      <td>0</td>\n",
              "    </tr>\n",
              "    <tr>\n",
              "      <th>9</th>\n",
              "      <td>1960</td>\n",
              "      <td>Music</td>\n",
              "      <td>0</td>\n",
              "    </tr>\n",
              "    <tr>\n",
              "      <th>11</th>\n",
              "      <td>1960</td>\n",
              "      <td>Science Fiction</td>\n",
              "      <td>0</td>\n",
              "    </tr>\n",
              "    <tr>\n",
              "      <th>13</th>\n",
              "      <td>1960</td>\n",
              "      <td>War</td>\n",
              "      <td>0</td>\n",
              "    </tr>\n",
              "  </tbody>\n",
              "</table>\n",
              "<p>1032 rows × 3 columns</p>\n",
              "</div>"
            ],
            "text/plain": [
              "      release_year           genres       revenue\n",
              "1014          2015        Adventure  336747794875\n",
              "1013          2015           Action  313138051864\n",
              "1027          2015  Science Fiction  239917408842\n",
              "1029          2015         Thriller  186804894154\n",
              "1016          2015           Comedy  165112820058\n",
              "...            ...              ...           ...\n",
              "3             1960            Crime             0\n",
              "6             1960          Fantasy             0\n",
              "9             1960            Music             0\n",
              "11            1960  Science Fiction             0\n",
              "13            1960              War             0\n",
              "\n",
              "[1032 rows x 3 columns]"
            ]
          },
          "metadata": {
            "tags": []
          },
          "execution_count": 56
        }
      ]
    },
    {
      "cell_type": "markdown",
      "metadata": {
        "id": "cG4b6Nko1x1q",
        "colab_type": "text"
      },
      "source": [
        "#Data Exploration and visualisation  "
      ]
    },
    {
      "cell_type": "markdown",
      "metadata": {
        "id": "9FUehRL0wPRe",
        "colab_type": "text"
      },
      "source": [
        "# What is the most selling genere in the history?\n",
        "\n",
        "---\n",
        "\n",
        "\n",
        "\n",
        "---\n",
        "\n"
      ]
    },
    {
      "cell_type": "code",
      "metadata": {
        "id": "yYo3JZQBwK9m",
        "colab_type": "code",
        "colab": {
          "base_uri": "https://localhost:8080/",
          "height": 102
        },
        "outputId": "f431f9fa-8167-4fbe-d8de-af0bf24ebd26"
      },
      "source": [
        "df_genere=df.groupby(by=['genres'])['revenue'].sum()\n",
        "df_genere=df_genere.sort_index(ascending=False)\n",
        "df_genere.index"
      ],
      "execution_count": 57,
      "outputs": [
        {
          "output_type": "execute_result",
          "data": {
            "text/plain": [
              "Index(['Western', 'War', 'Thriller', 'TV Movie', 'Science Fiction', 'Romance',\n",
              "       'Mystery', 'Music', 'Horror', 'History', 'Foreign', 'Fantasy', 'Family',\n",
              "       'Drama', 'Documentary', 'Crime', 'Comedy', 'Animation', 'Adventure',\n",
              "       'Action'],\n",
              "      dtype='object', name='genres')"
            ]
          },
          "metadata": {
            "tags": []
          },
          "execution_count": 57
        }
      ]
    },
    {
      "cell_type": "code",
      "metadata": {
        "id": "eSLGG2uuwUSe",
        "colab_type": "code",
        "colab": {
          "base_uri": "https://localhost:8080/",
          "height": 686
        },
        "outputId": "c3ae85a1-04b7-4b99-e4d6-ea94ac74d99f"
      },
      "source": [
        "plt.figure(figsize=(15,10))\n",
        "plt.bar(df_genere.index,df_genere)\n",
        "plt.xticks(rotation=90)\n",
        "plt.title('Best-selling genres')\n",
        "plt.xlabel('Generes')\n",
        "plt.ylabel('size of Generes')\n",
        "plt.show()"
      ],
      "execution_count": 58,
      "outputs": [
        {
          "output_type": "display_data",
          "data": {
            "image/png": "[encoded data removed]",
            "text/plain": [
              "<Figure size 1080x720 with 1 Axes>"
            ]
          },
          "metadata": {
            "tags": [],
            "needs_background": "light"
          }
        }
      ]
    },
    {
      "cell_type": "markdown",
      "metadata": {
        "id": "BAGWypgP1c5T",
        "colab_type": "text"
      },
      "source": [
        "### This means that the answer to our question is the action genere which is the most prefared throughout the history "
      ]
    },
    {
      "cell_type": "markdown",
      "metadata": {
        "id": "gxL5otO_2tyX",
        "colab_type": "text"
      },
      "source": [
        "# Is there a relationship between popularity and \tbudget?\t "
      ]
    },
    {
      "cell_type": "code",
      "metadata": {
        "id": "sdyaAh2w3cAt",
        "colab_type": "code",
        "colab": {
          "base_uri": "https://localhost:8080/",
          "height": 168
        },
        "outputId": "08d1da9a-5739-4d6f-afa9-89beecfa4d3a"
      },
      "source": [
        "df.head(1)"
      ],
      "execution_count": 59,
      "outputs": [
        {
          "output_type": "execute_result",
          "data": {
            "text/html": [
              "<div>\n",
              "<style scoped>\n",
              "    .dataframe tbody tr th:only-of-type {\n",
              "        vertical-align: middle;\n",
              "    }\n",
              "\n",
              "    .dataframe tbody tr th {\n",
              "        vertical-align: top;\n",
              "    }\n",
              "\n",
              "    .dataframe thead th {\n",
              "        text-align: right;\n",
              "    }\n",
              "</style>\n",
              "<table border=\"1\" class=\"dataframe\">\n",
              "  <thead>\n",
              "    <tr style=\"text-align: right;\">\n",
              "      <th></th>\n",
              "      <th>id</th>\n",
              "      <th>popularity</th>\n",
              "      <th>budget</th>\n",
              "      <th>revenue</th>\n",
              "      <th>original_title</th>\n",
              "      <th>cast</th>\n",
              "      <th>director</th>\n",
              "      <th>runtime</th>\n",
              "      <th>production_companies</th>\n",
              "      <th>release_date</th>\n",
              "      <th>vote_count</th>\n",
              "      <th>vote_average</th>\n",
              "      <th>release_year</th>\n",
              "      <th>budget_adj</th>\n",
              "      <th>revenue_adj</th>\n",
              "      <th>keywords</th>\n",
              "      <th>genres</th>\n",
              "    </tr>\n",
              "  </thead>\n",
              "  <tbody>\n",
              "    <tr>\n",
              "      <th>0</th>\n",
              "      <td>135397</td>\n",
              "      <td>32.985763</td>\n",
              "      <td>150000000</td>\n",
              "      <td>1513528810</td>\n",
              "      <td>Jurassic World</td>\n",
              "      <td>Chris Pratt|Bryce Dallas Howard|Irrfan Khan|Vi...</td>\n",
              "      <td>Colin Trevorrow</td>\n",
              "      <td>124</td>\n",
              "      <td>Universal Studios|Amblin Entertainment|Legenda...</td>\n",
              "      <td>6/9/15</td>\n",
              "      <td>5562</td>\n",
              "      <td>6.5</td>\n",
              "      <td>2015</td>\n",
              "      <td>1.379999e+08</td>\n",
              "      <td>1.392446e+09</td>\n",
              "      <td>monster</td>\n",
              "      <td>Action</td>\n",
              "    </tr>\n",
              "  </tbody>\n",
              "</table>\n",
              "</div>"
            ],
            "text/plain": [
              "       id  popularity     budget  ...   revenue_adj keywords  genres\n",
              "0  135397   32.985763  150000000  ...  1.392446e+09  monster  Action\n",
              "\n",
              "[1 rows x 17 columns]"
            ]
          },
          "metadata": {
            "tags": []
          },
          "execution_count": 59
        }
      ]
    },
    {
      "cell_type": "code",
      "metadata": {
        "id": "-CBq0OLo2quI",
        "colab_type": "code",
        "colab": {
          "base_uri": "https://localhost:8080/",
          "height": 350
        },
        "outputId": "554894b3-4fe3-4edf-f687-473515820ac3"
      },
      "source": [
        "plt.figure(figsize=(8,5))\n",
        "plt.scatter(x='revenue',y='budget',data=df)\n",
        "x=df['revenue']\n",
        "y=df['budget']\n",
        "m, b = np.polyfit(x,y,deg=1)\n",
        "plt.plot(x, m*x + b)\n",
        "plt.xlabel('revenue')\n",
        "plt.ylabel('budget')\n",
        "plt.title('Correlation between revenue and budget')\n",
        "plt.show()"
      ],
      "execution_count": 60,
      "outputs": [
        {
          "output_type": "display_data",
          "data": {
            "image/png": "[encoded data removed]",
            "text/plain": [
              "<Figure size 576x360 with 1 Axes>"
            ]
          },
          "metadata": {
            "tags": [],
            "needs_background": "light"
          }
        }
      ]
    },
    {
      "cell_type": "markdown",
      "metadata": {
        "id": "g6ENpnDq5jKo",
        "colab_type": "text"
      },
      "source": [
        "### As the line indicates they are positvely correlated "
      ]
    },
    {
      "cell_type": "markdown",
      "metadata": {
        "id": "LcUOQnxhwuCa",
        "colab_type": "text"
      },
      "source": [
        "# Are the revenues of each year improving ?\n",
        "\n",
        "---\n",
        "\n",
        "\n",
        "\n",
        "---\n",
        "\n"
      ]
    },
    {
      "cell_type": "code",
      "metadata": {
        "id": "nOqz_h9uwroL",
        "colab_type": "code",
        "colab": {
          "base_uri": "https://localhost:8080/",
          "height": 1000
        },
        "outputId": "c5765fe3-c416-47f0-9d60-e31901a13ac6"
      },
      "source": [
        "# answering the second question by using groupby and sum \n",
        "dfYear=df.groupby(by=['release_year'])['revenue'].sum()\n",
        "dfYear=dfYear.sort_index(ascending=False)\n",
        "dfYear"
      ],
      "execution_count": 61,
      "outputs": [
        {
          "output_type": "execute_result",
          "data": {
            "text/plain": [
              "release_year\n",
              "2015    1957464793275\n",
              "2014    1673877736815\n",
              "2013    1512702084406\n",
              "2012    1703703692482\n",
              "2011    1543069301124\n",
              "2010    1359232775092\n",
              "2009    1591026301250\n",
              "2008    1150994388847\n",
              "2007    1420540889436\n",
              "2006    1135589954618\n",
              "2005    1103222493098\n",
              "2004    1132386699531\n",
              "2003     952701541463\n",
              "2002     949181843595\n",
              "2001     911471109978\n",
              "2000     625820747893\n",
              "1999     719950530595\n",
              "1998     611962988524\n",
              "1997     749120595101\n",
              "1996     575438532154\n",
              "1995     683788696445\n",
              "1994     477925214236\n",
              "1993     447891050335\n",
              "1992     443645820541\n",
              "1991     346086900008\n",
              "1990     382581417029\n",
              "1989     325345619401\n",
              "1988     234801682103\n",
              "1987     218384908995\n",
              "1986     174147390085\n",
              "1985     185033373948\n",
              "1984     173774806860\n",
              "1983     150306398775\n",
              "1982     177567004449\n",
              "1981      84303742271\n",
              "1980     106555448385\n",
              "1979     108462196139\n",
              "1978      71700520840\n",
              "1977     135353723380\n",
              "1976      42363525689\n",
              "1975      62604835204\n",
              "1974      49219664468\n",
              "1973      74236409979\n",
              "1972      23370806316\n",
              "1971      29416161525\n",
              "1970      42228632450\n",
              "1969      10078924082\n",
              "1968      18346078893\n",
              "1967      53015152900\n",
              "1966       4347417225\n",
              "1965      37752496200\n",
              "1964      29075448762\n",
              "1963      11760859750\n",
              "1962      17776242300\n",
              "1961      21868832714\n",
              "1960       9624875000\n",
              "Name: revenue, dtype: int64"
            ]
          },
          "metadata": {
            "tags": []
          },
          "execution_count": 61
        }
      ]
    },
    {
      "cell_type": "code",
      "metadata": {
        "id": "cHYr3UAKw2LL",
        "colab_type": "code",
        "colab": {
          "base_uri": "https://localhost:8080/",
          "height": 637
        },
        "outputId": "981f7baf-065b-4c27-a374-7d67d2835779"
      },
      "source": [
        "\n",
        "plt.figure(figsize=(13,10))\n",
        "plt.bar(dfYear.index,dfYear)\n",
        "plt.xticks(rotation=90)\n",
        "plt.xlabel('Years')\n",
        "plt.xticks(ticks=dfYear.index)\n",
        "plt.ylabel('Revenue')\n",
        "plt.title('Each year and its Revenue')\n",
        "plt.show()"
      ],
      "execution_count": 62,
      "outputs": [
        {
          "output_type": "display_data",
          "data": {
            "image/png": "[encoded data removed]",
            "text/plain": [
              "<Figure size 936x720 with 1 Axes>"
            ]
          },
          "metadata": {
            "tags": [],
            "needs_background": "light"
          }
        }
      ]
    },
    {
      "cell_type": "markdown",
      "metadata": {
        "id": "glJLsXSa0sP-",
        "colab_type": "text"
      },
      "source": [
        "### this shows that the revenues in this industry are improving each year and some years it increases a lot !"
      ]
    },
    {
      "cell_type": "markdown",
      "metadata": {
        "id": "EG5UkLAaCbDn",
        "colab_type": "text"
      },
      "source": [
        "# what are the people's choice each year ?\n",
        "\n",
        "---\n",
        "\n",
        "\n"
      ]
    },
    {
      "cell_type": "code",
      "metadata": {
        "id": "78BQksTSLSfs",
        "colab_type": "code",
        "colab": {
          "base_uri": "https://localhost:8080/",
          "height": 1000
        },
        "outputId": "d75998ab-8631-48f3-8b9d-fe647ed0eabd"
      },
      "source": [
        "# this is to get the  most popular genere each year \n",
        "people=df_group.sort_values(by=['release_year'],ascending=False)\n",
        "people=people.sort_values('revenue',ascending=False)\n",
        "people\n",
        "\n",
        "df_people=people.drop_duplicates('release_year',keep='first', ignore_index=True)\n",
        "df_people[['release_year','genres']]"
      ],
      "execution_count": 63,
      "outputs": [
        {
          "output_type": "execute_result",
          "data": {
            "text/html": [
              "<div>\n",
              "<style scoped>\n",
              "    .dataframe tbody tr th:only-of-type {\n",
              "        vertical-align: middle;\n",
              "    }\n",
              "\n",
              "    .dataframe tbody tr th {\n",
              "        vertical-align: top;\n",
              "    }\n",
              "\n",
              "    .dataframe thead th {\n",
              "        text-align: right;\n",
              "    }\n",
              "</style>\n",
              "<table border=\"1\" class=\"dataframe\">\n",
              "  <thead>\n",
              "    <tr style=\"text-align: right;\">\n",
              "      <th></th>\n",
              "      <th>release_year</th>\n",
              "      <th>genres</th>\n",
              "    </tr>\n",
              "  </thead>\n",
              "  <tbody>\n",
              "    <tr>\n",
              "      <th>0</th>\n",
              "      <td>2015</td>\n",
              "      <td>Adventure</td>\n",
              "    </tr>\n",
              "    <tr>\n",
              "      <th>1</th>\n",
              "      <td>2014</td>\n",
              "      <td>Action</td>\n",
              "    </tr>\n",
              "    <tr>\n",
              "      <th>2</th>\n",
              "      <td>2012</td>\n",
              "      <td>Adventure</td>\n",
              "    </tr>\n",
              "    <tr>\n",
              "      <th>3</th>\n",
              "      <td>2009</td>\n",
              "      <td>Adventure</td>\n",
              "    </tr>\n",
              "    <tr>\n",
              "      <th>4</th>\n",
              "      <td>2013</td>\n",
              "      <td>Adventure</td>\n",
              "    </tr>\n",
              "    <tr>\n",
              "      <th>5</th>\n",
              "      <td>2011</td>\n",
              "      <td>Adventure</td>\n",
              "    </tr>\n",
              "    <tr>\n",
              "      <th>6</th>\n",
              "      <td>2010</td>\n",
              "      <td>Adventure</td>\n",
              "    </tr>\n",
              "    <tr>\n",
              "      <th>7</th>\n",
              "      <td>2007</td>\n",
              "      <td>Adventure</td>\n",
              "    </tr>\n",
              "    <tr>\n",
              "      <th>8</th>\n",
              "      <td>2003</td>\n",
              "      <td>Action</td>\n",
              "    </tr>\n",
              "    <tr>\n",
              "      <th>9</th>\n",
              "      <td>2004</td>\n",
              "      <td>Adventure</td>\n",
              "    </tr>\n",
              "    <tr>\n",
              "      <th>10</th>\n",
              "      <td>2008</td>\n",
              "      <td>Action</td>\n",
              "    </tr>\n",
              "    <tr>\n",
              "      <th>11</th>\n",
              "      <td>2005</td>\n",
              "      <td>Adventure</td>\n",
              "    </tr>\n",
              "    <tr>\n",
              "      <th>12</th>\n",
              "      <td>2006</td>\n",
              "      <td>Adventure</td>\n",
              "    </tr>\n",
              "    <tr>\n",
              "      <th>13</th>\n",
              "      <td>2002</td>\n",
              "      <td>Action</td>\n",
              "    </tr>\n",
              "    <tr>\n",
              "      <th>14</th>\n",
              "      <td>1997</td>\n",
              "      <td>Thriller</td>\n",
              "    </tr>\n",
              "    <tr>\n",
              "      <th>15</th>\n",
              "      <td>1995</td>\n",
              "      <td>Drama</td>\n",
              "    </tr>\n",
              "    <tr>\n",
              "      <th>16</th>\n",
              "      <td>2001</td>\n",
              "      <td>Adventure</td>\n",
              "    </tr>\n",
              "    <tr>\n",
              "      <th>17</th>\n",
              "      <td>1999</td>\n",
              "      <td>Drama</td>\n",
              "    </tr>\n",
              "    <tr>\n",
              "      <th>18</th>\n",
              "      <td>2000</td>\n",
              "      <td>Comedy</td>\n",
              "    </tr>\n",
              "    <tr>\n",
              "      <th>19</th>\n",
              "      <td>1996</td>\n",
              "      <td>Action</td>\n",
              "    </tr>\n",
              "    <tr>\n",
              "      <th>20</th>\n",
              "      <td>1998</td>\n",
              "      <td>Drama</td>\n",
              "    </tr>\n",
              "    <tr>\n",
              "      <th>21</th>\n",
              "      <td>1993</td>\n",
              "      <td>Drama</td>\n",
              "    </tr>\n",
              "    <tr>\n",
              "      <th>22</th>\n",
              "      <td>1994</td>\n",
              "      <td>Drama</td>\n",
              "    </tr>\n",
              "    <tr>\n",
              "      <th>23</th>\n",
              "      <td>1992</td>\n",
              "      <td>Thriller</td>\n",
              "    </tr>\n",
              "    <tr>\n",
              "      <th>24</th>\n",
              "      <td>1989</td>\n",
              "      <td>Comedy</td>\n",
              "    </tr>\n",
              "    <tr>\n",
              "      <th>25</th>\n",
              "      <td>1990</td>\n",
              "      <td>Comedy</td>\n",
              "    </tr>\n",
              "    <tr>\n",
              "      <th>26</th>\n",
              "      <td>1988</td>\n",
              "      <td>Comedy</td>\n",
              "    </tr>\n",
              "    <tr>\n",
              "      <th>27</th>\n",
              "      <td>1991</td>\n",
              "      <td>Action</td>\n",
              "    </tr>\n",
              "    <tr>\n",
              "      <th>28</th>\n",
              "      <td>1987</td>\n",
              "      <td>Comedy</td>\n",
              "    </tr>\n",
              "    <tr>\n",
              "      <th>29</th>\n",
              "      <td>1984</td>\n",
              "      <td>Action</td>\n",
              "    </tr>\n",
              "    <tr>\n",
              "      <th>30</th>\n",
              "      <td>1983</td>\n",
              "      <td>Action</td>\n",
              "    </tr>\n",
              "    <tr>\n",
              "      <th>31</th>\n",
              "      <td>1985</td>\n",
              "      <td>Drama</td>\n",
              "    </tr>\n",
              "    <tr>\n",
              "      <th>32</th>\n",
              "      <td>1982</td>\n",
              "      <td>Adventure</td>\n",
              "    </tr>\n",
              "    <tr>\n",
              "      <th>33</th>\n",
              "      <td>1986</td>\n",
              "      <td>Drama</td>\n",
              "    </tr>\n",
              "    <tr>\n",
              "      <th>34</th>\n",
              "      <td>1977</td>\n",
              "      <td>Adventure</td>\n",
              "    </tr>\n",
              "    <tr>\n",
              "      <th>35</th>\n",
              "      <td>1980</td>\n",
              "      <td>Action</td>\n",
              "    </tr>\n",
              "    <tr>\n",
              "      <th>36</th>\n",
              "      <td>1979</td>\n",
              "      <td>Drama</td>\n",
              "    </tr>\n",
              "    <tr>\n",
              "      <th>37</th>\n",
              "      <td>1973</td>\n",
              "      <td>Drama</td>\n",
              "    </tr>\n",
              "    <tr>\n",
              "      <th>38</th>\n",
              "      <td>1981</td>\n",
              "      <td>Action</td>\n",
              "    </tr>\n",
              "    <tr>\n",
              "      <th>39</th>\n",
              "      <td>1975</td>\n",
              "      <td>Horror</td>\n",
              "    </tr>\n",
              "    <tr>\n",
              "      <th>40</th>\n",
              "      <td>1970</td>\n",
              "      <td>Drama</td>\n",
              "    </tr>\n",
              "    <tr>\n",
              "      <th>41</th>\n",
              "      <td>1974</td>\n",
              "      <td>Thriller</td>\n",
              "    </tr>\n",
              "    <tr>\n",
              "      <th>42</th>\n",
              "      <td>1967</td>\n",
              "      <td>Adventure</td>\n",
              "    </tr>\n",
              "    <tr>\n",
              "      <th>43</th>\n",
              "      <td>1976</td>\n",
              "      <td>Drama</td>\n",
              "    </tr>\n",
              "    <tr>\n",
              "      <th>44</th>\n",
              "      <td>1978</td>\n",
              "      <td>Action</td>\n",
              "    </tr>\n",
              "    <tr>\n",
              "      <th>45</th>\n",
              "      <td>1972</td>\n",
              "      <td>Drama</td>\n",
              "    </tr>\n",
              "    <tr>\n",
              "      <th>46</th>\n",
              "      <td>1971</td>\n",
              "      <td>Thriller</td>\n",
              "    </tr>\n",
              "    <tr>\n",
              "      <th>47</th>\n",
              "      <td>1965</td>\n",
              "      <td>Drama</td>\n",
              "    </tr>\n",
              "    <tr>\n",
              "      <th>48</th>\n",
              "      <td>1962</td>\n",
              "      <td>Adventure</td>\n",
              "    </tr>\n",
              "    <tr>\n",
              "      <th>49</th>\n",
              "      <td>1964</td>\n",
              "      <td>Music</td>\n",
              "    </tr>\n",
              "    <tr>\n",
              "      <th>50</th>\n",
              "      <td>1961</td>\n",
              "      <td>Adventure</td>\n",
              "    </tr>\n",
              "    <tr>\n",
              "      <th>51</th>\n",
              "      <td>1968</td>\n",
              "      <td>Drama</td>\n",
              "    </tr>\n",
              "    <tr>\n",
              "      <th>52</th>\n",
              "      <td>1960</td>\n",
              "      <td>Drama</td>\n",
              "    </tr>\n",
              "    <tr>\n",
              "      <th>53</th>\n",
              "      <td>1963</td>\n",
              "      <td>Thriller</td>\n",
              "    </tr>\n",
              "    <tr>\n",
              "      <th>54</th>\n",
              "      <td>1969</td>\n",
              "      <td>Adventure</td>\n",
              "    </tr>\n",
              "    <tr>\n",
              "      <th>55</th>\n",
              "      <td>1966</td>\n",
              "      <td>Drama</td>\n",
              "    </tr>\n",
              "  </tbody>\n",
              "</table>\n",
              "</div>"
            ],
            "text/plain": [
              "    release_year     genres\n",
              "0           2015  Adventure\n",
              "1           2014     Action\n",
              "2           2012  Adventure\n",
              "3           2009  Adventure\n",
              "4           2013  Adventure\n",
              "5           2011  Adventure\n",
              "6           2010  Adventure\n",
              "7           2007  Adventure\n",
              "8           2003     Action\n",
              "9           2004  Adventure\n",
              "10          2008     Action\n",
              "11          2005  Adventure\n",
              "12          2006  Adventure\n",
              "13          2002     Action\n",
              "14          1997   Thriller\n",
              "15          1995      Drama\n",
              "16          2001  Adventure\n",
              "17          1999      Drama\n",
              "18          2000     Comedy\n",
              "19          1996     Action\n",
              "20          1998      Drama\n",
              "21          1993      Drama\n",
              "22          1994      Drama\n",
              "23          1992   Thriller\n",
              "24          1989     Comedy\n",
              "25          1990     Comedy\n",
              "26          1988     Comedy\n",
              "27          1991     Action\n",
              "28          1987     Comedy\n",
              "29          1984     Action\n",
              "30          1983     Action\n",
              "31          1985      Drama\n",
              "32          1982  Adventure\n",
              "33          1986      Drama\n",
              "34          1977  Adventure\n",
              "35          1980     Action\n",
              "36          1979      Drama\n",
              "37          1973      Drama\n",
              "38          1981     Action\n",
              "39          1975     Horror\n",
              "40          1970      Drama\n",
              "41          1974   Thriller\n",
              "42          1967  Adventure\n",
              "43          1976      Drama\n",
              "44          1978     Action\n",
              "45          1972      Drama\n",
              "46          1971   Thriller\n",
              "47          1965      Drama\n",
              "48          1962  Adventure\n",
              "49          1964      Music\n",
              "50          1961  Adventure\n",
              "51          1968      Drama\n",
              "52          1960      Drama\n",
              "53          1963   Thriller\n",
              "54          1969  Adventure\n",
              "55          1966      Drama"
            ]
          },
          "metadata": {
            "tags": []
          },
          "execution_count": 63
        }
      ]
    },
    {
      "cell_type": "markdown",
      "metadata": {
        "id": "sgzKyKDw0LfI",
        "colab_type": "text"
      },
      "source": [
        "### The result shows that Adventues is the most prefared then action in years 2005 to 2015"
      ]
    },
    {
      "cell_type": "code",
      "metadata": {
        "id": "jtjwVJhZF9yp",
        "colab_type": "code",
        "colab": {}
      },
      "source": [
        "# to exporting it to the Report \n",
        "df_people[['release_year'\t,'genres']].to_csv('geners_each_year.csv')"
      ],
      "execution_count": 64,
      "outputs": []
    },
    {
      "cell_type": "markdown",
      "metadata": {
        "id": "5RyJXj-fJlWs",
        "colab_type": "text"
      },
      "source": [
        "# What is the year with the bigges number of movies "
      ]
    },
    {
      "cell_type": "code",
      "metadata": {
        "id": "l903VA9OGKJJ",
        "colab_type": "code",
        "colab": {}
      },
      "source": [
        "\n",
        "no=df.groupby('release_year')['id'].count()\n",
        "\n",
        "\n"
      ],
      "execution_count": 65,
      "outputs": []
    },
    {
      "cell_type": "code",
      "metadata": {
        "id": "sDRvpLhESmQk",
        "colab_type": "code",
        "colab": {
          "base_uri": "https://localhost:8080/",
          "height": 893
        },
        "outputId": "8cc443c9-26b4-4b31-bc67-839fbe46330d"
      },
      "source": [
        "plt.figure(figsize=(10,15))\n",
        "plt.barh(no.index,no)\n",
        "plt.yticks(ticks=no.index)\n",
        "plt.ylabel('Years')\n",
        "plt.xlabel(' Number Of shows')\n",
        "plt.title('Each year and its number of movies ')\n",
        "plt.show()"
      ],
      "execution_count": 66,
      "outputs": [
        {
          "output_type": "display_data",
          "data": {
            "image/png": "[encoded data removed]",
            "text/plain": [
              "<Figure size 720x1080 with 1 Axes>"
            ]
          },
          "metadata": {
            "tags": [],
            "needs_background": "light"
          }
        }
      ]
    },
    {
      "cell_type": "markdown",
      "metadata": {
        "id": "37_7NFoQzdYM",
        "colab_type": "text"
      },
      "source": [
        "### the figure above indicates that year 2014 is the year with the biggest number of shows "
      ]
    },
    {
      "cell_type": "markdown",
      "metadata": {
        "id": "KmvC3vPdgqKM",
        "colab_type": "text"
      },
      "source": [
        "# which Company produced the biggest number of shows?\n",
        "\n",
        "---\n",
        "\n",
        "\n",
        "\n",
        "---\n",
        "\n"
      ]
    },
    {
      "cell_type": "code",
      "metadata": {
        "id": "-WSpzqenQhUl",
        "colab_type": "code",
        "colab": {
          "base_uri": "https://localhost:8080/",
          "height": 221
        },
        "outputId": "a84ea928-0dbe-44dc-cc01-63a62809cb0a"
      },
      "source": [
        "df['production_companies'].value_counts()"
      ],
      "execution_count": 67,
      "outputs": [
        {
          "output_type": "execute_result",
          "data": {
            "text/plain": [
              "Paramount Pictures                                                              7541\n",
              "Universal Pictures                                                              6206\n",
              "Columbia Pictures                                                               4014\n",
              "Warner Bros.                                                                    3477\n",
              "Walt Disney Pictures                                                            3303\n",
              "                                                                                ... \n",
              "Passion Pictures|Cutler Productions                                                1\n",
              "Paramount Pictures|Famous Films (II)                                               1\n",
              "Sony Pictures Animation|NEST Family Entertainment|Crest Animation Production       1\n",
              "Lucasfilms                                                                         1\n",
              "AdScott Pictures                                                                   1\n",
              "Name: production_companies, Length: 6626, dtype: int64"
            ]
          },
          "metadata": {
            "tags": []
          },
          "execution_count": 67
        }
      ]
    },
    {
      "cell_type": "code",
      "metadata": {
        "id": "o4CfKzRHX2Ei",
        "colab_type": "code",
        "colab": {}
      },
      "source": [
        "#dfprod=df.drop('production_companies', axis=1).join(df['production_companies'].str.split('|', expand=True).stack().reset_index(level=1, drop=True).rename('production_companies'))\n",
        "dfprod=df['production_companies'].str.split('|', expand=True).stack().reset_index(level=1, drop=True).rename('production_companies')"
      ],
      "execution_count": 68,
      "outputs": []
    },
    {
      "cell_type": "code",
      "metadata": {
        "id": "Ysz9vnHWY85C",
        "colab_type": "code",
        "colab": {
          "base_uri": "https://localhost:8080/",
          "height": 119
        },
        "outputId": "aedfba68-6ffa-4847-9705-03c20309fe11"
      },
      "source": [
        "dfproduction=dfprod.value_counts()\n",
        "dfproduction=dfproduction.iloc[0:5]\n",
        "dfproduction=dfproduction/dfproduction.sum() *100\n",
        "dfproduction"
      ],
      "execution_count": 69,
      "outputs": [
        {
          "output_type": "execute_result",
          "data": {
            "text/plain": [
              "Warner Bros.                              25.697463\n",
              "Universal Pictures                        24.768128\n",
              "Paramount Pictures                        21.010179\n",
              "Twentieth Century Fox Film Corporation    14.885979\n",
              "Columbia Pictures                         13.638251\n",
              "Name: production_companies, dtype: float64"
            ]
          },
          "metadata": {
            "tags": []
          },
          "execution_count": 69
        }
      ]
    },
    {
      "cell_type": "code",
      "metadata": {
        "id": "qihS571Kbug0",
        "colab_type": "code",
        "colab": {
          "base_uri": "https://localhost:8080/",
          "height": 591
        },
        "outputId": "a6a30848-1826-408b-eef2-0e0eecb4ea4d"
      },
      "source": [
        "\n",
        "plt.figure(figsize=(10,10))\n",
        "explode = (0.1, 0, 0, 0,0)  # only \"explode\" the 2nd slice (i.e. 'Hogs')\n",
        "plt.pie(dfproduction,labels =dfproduction.index, explode=explode, autopct='%1.1f%%',shadow=True, startangle=90)\n",
        "\n",
        "plt.title('The 5 biggest companies in producing shows')\n",
        "plt.show()"
      ],
      "execution_count": 70,
      "outputs": [
        {
          "output_type": "display_data",
          "data": {
            "image/png": "[encoded data removed]",
            "text/plain": [
              "<Figure size 720x720 with 1 Axes>"
            ]
          },
          "metadata": {
            "tags": []
          }
        }
      ]
    },
    {
      "cell_type": "markdown",
      "metadata": {
        "id": "C-tc04ony9Gk",
        "colab_type": "text"
      },
      "source": [
        "# This Shows that Warner Bros which has produced 25.7% of shows is the biggest company in production ! "
      ]
    },
    {
      "cell_type": "markdown",
      "metadata": {
        "id": "xuLXCbrKqMUj",
        "colab_type": "text"
      },
      "source": [
        "\n",
        "## Conclusions\n",
        "\n",
        "These are the answers to our questions :\n",
        "*   The most selling genre in the history is Action\n",
        "*   Budget and revenue are positevly correlated\n",
        "*   The revenue of th industy of movie production is always increasing and improving\n",
        "*   2014 is the year with the biggest number of movies production\n",
        "*   Warner Bros is the biggest company in producing movies in the history with propotion of 25.7% of the total production \n",
        "\n",
        "## Limitations\n",
        "The data wasn't ready and had many null values and many irrelevant feature which i had to remove .Also features like  Genres and Company production are multivalued so i had to split them .The data is not idicationg the money was in which currency either .But all of these limitations won't badly affect our analysis and findings.\n",
        "\n",
        "\n",
        "\n",
        "\n"
      ]
    }
  ]
}